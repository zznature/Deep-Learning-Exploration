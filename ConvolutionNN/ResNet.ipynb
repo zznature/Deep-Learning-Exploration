{
 "cells": [
  {
   "cell_type": "markdown",
   "metadata": {},
   "source": [
    "# Residual Networks (ResNet) and ResNeXt\n",
    "\n",
    "Even more important is the ability to design networks where adding layers makes networks strictly more expressive rather than just different."
   ]
  }
 ],
 "metadata": {
  "language_info": {
   "name": "python"
  },
  "orig_nbformat": 4
 },
 "nbformat": 4,
 "nbformat_minor": 2
}
