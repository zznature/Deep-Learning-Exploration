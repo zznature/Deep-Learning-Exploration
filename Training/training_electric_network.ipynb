{
 "cells": [
  {
   "cell_type": "markdown",
   "metadata": {},
   "source": [
    "# Training the electric network\n",
    "\n",
    "Write a two-layer neural network to train image in raw format. The network is trained to predict the electric network from the image. The network is trained on the training set and evaluated on the test set. The network is trained using stochastic gradient descent with a fixed learning rate and no regularization."
   ]
  },
  {
   "cell_type": "code",
   "execution_count": 1,
   "metadata": {},
   "outputs": [],
   "source": [
    "# import the necessary packages\n",
    "import torch as torch\n",
    "import torch.nn as nn\n",
    "import torchvision.transforms as transforms\n",
    "import torchvision.datasets as datasets\n",
    "from torch.utils.data import DataLoader\n",
    "\n",
    "# import raw image\n",
    "from PIL import Image\n",
    "import numpy as np\n",
    "import matplotlib.pyplot as plt"
   ]
  },
  {
   "cell_type": "markdown",
   "metadata": {},
   "source": [
    "## 1. have a feel of the raw image"
   ]
  },
  {
   "cell_type": "code",
   "execution_count": 12,
   "metadata": {},
   "outputs": [
    {
     "name": "stdout",
     "output_type": "stream",
     "text": [
      "[[10467 12525 13927 ...  7098  7706  7925]\n",
      " [12844 13906  9647 ...  6527  6522  6164]\n",
      " [13717 12368  6016 ...  7291  7276  6490]\n",
      " ...\n",
      " [ 7560  4947  4667 ...  7730  7484  5078]\n",
      " [ 8558  5854  6281 ...  8016  7724  5039]\n",
      " [ 7936  6199  7346 ...  7341  6705  4643]]\n"
     ]
    },
    {
     "data": {
      "image/png": "[encoded data removed]",
      "text/plain": [
       "<Figure size 200x200 with 1 Axes>"
      ]
     },
     "metadata": {},
     "output_type": "display_data"
    }
   ],
   "source": [
    "# open the raw image file\n",
    "with open('test_image/pic_20231025_15 1 2_991.raw', 'rb') as f:\n",
    "    # read the raw image data\n",
    "    raw_data = f.read()\n",
    "\n",
    "# create a PIL image from the raw data\n",
    "width, height = 32, 32\n",
    "img = Image.frombytes('I;16', (width, height), raw_data, decoder_name='raw')\n",
    "# img.show()\n",
    "\n",
    "# convert the PIL image to a numpy array\n",
    "image = np.array(img)\n",
    "print(image)\n",
    "\n",
    "# display the image\n",
    "plt.figure(figsize=(2,2))\n",
    "plt.imshow(image, cmap='gray', vmin=0, vmax=2**14-1)\n",
    "plt.tight_layout()"
   ]
  },
  {
   "cell_type": "markdown",
   "metadata": {},
   "source": [
    "## 2. make a dataset\n",
    "3 kinds of objects in 3 folders, 250 raw images in each folder, labeled as 0, 1, 2.\n",
    "\n",
    "`datasets.ImageFolder(root='./data', transform=transform)` do not support raw image, so we need to make a dataset by ourselves."
   ]
  },
  {
   "cell_type": "code",
   "execution_count": null,
   "metadata": {},
   "outputs": [],
   "source": [
    "\n",
    "# define the path to the root folder of the dataset\n",
    "root = '红外光测试'\n",
    "\n",
    "# define the transformations to apply to the images\n",
    "transform = transforms.Compose([\n",
    "    transforms.Resize((1, 32*32)),\n",
    "    transforms.ToTensor(),\n",
    "    # transforms.Normalize(mean=[0.5], std=[0.5])\n",
    "])\n",
    "\n",
    "# create the Image dataset with only raw images\n",
    "dataset = datasets.ImageFolder(root=root, transform=transform, )\n",
    "\n",
    "# print the class labels\n",
    "print('dataset.class:', dataset.classes)\n",
    "\n",
    "# add label to images in each folder\n",
    "dataset.class_to_idx = {'img32x32_20231023_113512_flight': 0, \n",
    "                        'img32x32_20231023_113737_oil': 1, \n",
    "                        'img32x32_20231023_113921_boat': 2}\n",
    "\n",
    "# print an example in dataset\n",
    "print(dataset[1], '\\n', \n",
    "    dataset[1][0].shape, '\\n',\n",
    "    dataset[1][1])\n",
    "\n",
    "\n",
    "# print the number of images in the dataset\n",
    "print(len(dataset))\n",
    "\n",
    "# # print the number of images per class\n",
    "# print(dataset.class_counts)\n",
    "training_data = DataLoader(dataset, batch_size=25, shuffle=True)\n",
    "train_dataloader = DataLoader(training_data, batch_size=25)"
   ]
  },
  {
   "cell_type": "markdown",
   "metadata": {},
   "source": [
    "### import dataset"
   ]
  },
  {
   "cell_type": "code",
   "execution_count": null,
   "metadata": {},
   "outputs": [],
   "source": [
    "\n",
    "# define the path to the root folder of the dataset\n",
    "root = '红外光测试'\n",
    "\n",
    "# define the transformations to apply to the images\n",
    "transform = transforms.Compose([\n",
    "    transforms.Resize((1, 32*32)),\n",
    "    transforms.ToTensor(),\n",
    "    # transforms.Normalize(mean=[0.5], std=[0.5])\n",
    "])\n",
    "\n",
    "# create the Image dataset with only raw images\n",
    "dataset = datasets.ImageFolder(root=root, transform=transform, )\n",
    "\n",
    "# print the class labels\n",
    "print('dataset.class:', dataset.classes)\n",
    "\n",
    "# add label to images in each folder\n",
    "dataset.class_to_idx = {'img32x32_20231023_113512_flight': 0, \n",
    "                        'img32x32_20231023_113737_oil': 1, \n",
    "                        'img32x32_20231023_113921_boat': 2}\n",
    "\n",
    "# print an example in dataset\n",
    "print(dataset[1], '\\n', \n",
    "    dataset[1][0].shape, '\\n',\n",
    "    dataset[1][1])\n",
    "\n",
    "\n",
    "# print the number of images in the dataset\n",
    "print(len(dataset))\n",
    "\n",
    "# # print the number of images per class\n",
    "# print(dataset.class_counts)\n",
    "training_data = DataLoader(dataset, batch_size=25, shuffle=True)\n",
    "train_dataloader = DataLoader(training_data, batch_size=25)"
   ]
  },
  {
   "cell_type": "markdown",
   "metadata": {},
   "source": [
    "## 3. define the network\n",
    "\n",
    "The input tensor is a 32 * 32 raw image and flatten to 1 * 1024.\n",
    "\n",
    "The weight value in the 1st layer should be binary (+1 or -1), the dimension of the weight matrix is 1024*32. The activation function is relu function.\n",
    "\n",
    "The weight value in the 2nd layer signed 16 bit, the dimension of the weight matrix is 32 *3. The output is 1 *3 matrix. The activation function is softmax function."
   ]
  },
  {
   "cell_type": "code",
   "execution_count": 4,
   "metadata": {},
   "outputs": [],
   "source": [
    "# define the network\n",
    "# The weight value in the 1st layer should be binary (+1 or -1), \n",
    "# the dimension of the weight matrix is 1024*32. The activation function is relu function.\n",
    "# The weight value in the 2nd layer signed 16 bit, the dimension of the weight matrix is 32 *3. \n",
    "# The output is 1 *3 matrix. The activation function is softmax function.\n",
    "\n",
    "class Network(nn.Module):\n",
    "    def __init__(self):\n",
    "        super(Network, self).__init__()\n",
    "        self.fc1 = nn.Linear(32*32, 32)\n",
    "        self.fc2 = nn.Linear(32, 3)\n",
    "\n",
    "    def forward(self, x):\n",
    "        x = torch.relu(self.fc1(x))\n",
    "        x = self.fc2(x)\n",
    "        return x\n",
    "\n",
    "    # def binary(self):\n",
    "    #     self.fc1.weight.data = torch.where(self.fc1.weight.data > 0, \n",
    "    #             torch.ones_like(self.fc1.weight.data),\n",
    "    #             -torch.ones_like(self.fc1.weight.data))"
   ]
  },
  {
   "cell_type": "markdown",
   "metadata": {},
   "source": [
    "## 4. train the network"
   ]
  },
  {
   "cell_type": "code",
   "execution_count": 5,
   "metadata": {},
   "outputs": [],
   "source": [
    "\n",
    "model = Network()"
   ]
  },
  {
   "cell_type": "code",
   "execution_count": 6,
   "metadata": {},
   "outputs": [],
   "source": [
    "def train_loop(dataloader, model, loss_fn, optimizer):\n",
    "    size = len(dataloader.dataset)\n",
    "    # Set the model to training mode - important for batch normalization and dropout layers\n",
    "    # Unnecessary in this situation but added for best practices\n",
    "    model.train()\n",
    "    for batch, (X, y) in enumerate(dataloader):\n",
    "        # Compute prediction and loss\n",
    "        pred = model(X)\n",
    "        loss = loss_fn(pred, y)\n",
    "\n",
    "        # Backpropagation\n",
    "        loss.backward()\n",
    "        optimizer.step()\n",
    "        optimizer.zero_grad()\n",
    "\n",
    "        if batch % 100 == 0:\n",
    "            loss, current = loss.item(), (batch + 1) * len(X)\n",
    "            print(f\"loss: {loss:>7f}  [{current:>5d}/{size:>5d}]\")"
   ]
  },
  {
   "cell_type": "code",
   "execution_count": 9,
   "metadata": {},
   "outputs": [
    {
     "ename": "TypeError",
     "evalue": "'DataLoader' object is not subscriptable",
     "output_type": "error",
     "traceback": [
      "\u001b[0;31m---------------------------------------------------------------------------\u001b[0m",
      "\u001b[0;31mTypeError\u001b[0m                                 Traceback (most recent call last)",
      "\u001b[1;32m/Users/zhouzhang/Library/CloudStorage/坚果云-zhouzhang1992@qq.com/Code/Deep-Learning-Exploration/Training/training_electric_network.ipynb Cell 12\u001b[0m line \u001b[0;36m1\n\u001b[1;32m     <a href='vscode-notebook-cell:/Users/zhouzhang/Library/CloudStorage/%E5%9D%9A%E6%9E%9C%E4%BA%91-zhouzhang1992%40qq.com/Code/Deep-Learning-Exploration/Training/training_electric_network.ipynb#X14sZmlsZQ%3D%3D?line=10'>11</a>\u001b[0m \u001b[39m# Set the model to training mode - important for batch normalization and dropout layers\u001b[39;00m\n\u001b[1;32m     <a href='vscode-notebook-cell:/Users/zhouzhang/Library/CloudStorage/%E5%9D%9A%E6%9E%9C%E4%BA%91-zhouzhang1992%40qq.com/Code/Deep-Learning-Exploration/Training/training_electric_network.ipynb#X14sZmlsZQ%3D%3D?line=11'>12</a>\u001b[0m \u001b[39m# Unnecessary in this situation but added for best practices\u001b[39;00m\n\u001b[1;32m     <a href='vscode-notebook-cell:/Users/zhouzhang/Library/CloudStorage/%E5%9D%9A%E6%9E%9C%E4%BA%91-zhouzhang1992%40qq.com/Code/Deep-Learning-Exploration/Training/training_electric_network.ipynb#X14sZmlsZQ%3D%3D?line=12'>13</a>\u001b[0m model\u001b[39m.\u001b[39mtrain()\n\u001b[0;32m---> <a href='vscode-notebook-cell:/Users/zhouzhang/Library/CloudStorage/%E5%9D%9A%E6%9E%9C%E4%BA%91-zhouzhang1992%40qq.com/Code/Deep-Learning-Exploration/Training/training_electric_network.ipynb#X14sZmlsZQ%3D%3D?line=13'>14</a>\u001b[0m \u001b[39mfor\u001b[39;00m batch, (X, y) \u001b[39min\u001b[39;00m \u001b[39menumerate\u001b[39m(train_dataloader):\n\u001b[1;32m     <a href='vscode-notebook-cell:/Users/zhouzhang/Library/CloudStorage/%E5%9D%9A%E6%9E%9C%E4%BA%91-zhouzhang1992%40qq.com/Code/Deep-Learning-Exploration/Training/training_electric_network.ipynb#X14sZmlsZQ%3D%3D?line=14'>15</a>\u001b[0m     \u001b[39m# Compute prediction and loss\u001b[39;00m\n\u001b[1;32m     <a href='vscode-notebook-cell:/Users/zhouzhang/Library/CloudStorage/%E5%9D%9A%E6%9E%9C%E4%BA%91-zhouzhang1992%40qq.com/Code/Deep-Learning-Exploration/Training/training_electric_network.ipynb#X14sZmlsZQ%3D%3D?line=15'>16</a>\u001b[0m     pred \u001b[39m=\u001b[39m model(X)\n\u001b[1;32m     <a href='vscode-notebook-cell:/Users/zhouzhang/Library/CloudStorage/%E5%9D%9A%E6%9E%9C%E4%BA%91-zhouzhang1992%40qq.com/Code/Deep-Learning-Exploration/Training/training_electric_network.ipynb#X14sZmlsZQ%3D%3D?line=16'>17</a>\u001b[0m     loss \u001b[39m=\u001b[39m loss_fn(pred, y)\n",
      "File \u001b[0;32m~/opt/anaconda3/envs/d2l/lib/python3.9/site-packages/torch/utils/data/dataloader.py:652\u001b[0m, in \u001b[0;36m_BaseDataLoaderIter.__next__\u001b[0;34m(self)\u001b[0m\n\u001b[1;32m    649\u001b[0m \u001b[39mif\u001b[39;00m \u001b[39mself\u001b[39m\u001b[39m.\u001b[39m_sampler_iter \u001b[39mis\u001b[39;00m \u001b[39mNone\u001b[39;00m:\n\u001b[1;32m    650\u001b[0m     \u001b[39m# TODO(https://github.com/pytorch/pytorch/issues/76750)\u001b[39;00m\n\u001b[1;32m    651\u001b[0m     \u001b[39mself\u001b[39m\u001b[39m.\u001b[39m_reset()  \u001b[39m# type: ignore[call-arg]\u001b[39;00m\n\u001b[0;32m--> 652\u001b[0m data \u001b[39m=\u001b[39m \u001b[39mself\u001b[39;49m\u001b[39m.\u001b[39;49m_next_data()\n\u001b[1;32m    653\u001b[0m \u001b[39mself\u001b[39m\u001b[39m.\u001b[39m_num_yielded \u001b[39m+\u001b[39m\u001b[39m=\u001b[39m \u001b[39m1\u001b[39m\n\u001b[1;32m    654\u001b[0m \u001b[39mif\u001b[39;00m \u001b[39mself\u001b[39m\u001b[39m.\u001b[39m_dataset_kind \u001b[39m==\u001b[39m _DatasetKind\u001b[39m.\u001b[39mIterable \u001b[39mand\u001b[39;00m \\\n\u001b[1;32m    655\u001b[0m         \u001b[39mself\u001b[39m\u001b[39m.\u001b[39m_IterableDataset_len_called \u001b[39mis\u001b[39;00m \u001b[39mnot\u001b[39;00m \u001b[39mNone\u001b[39;00m \u001b[39mand\u001b[39;00m \\\n\u001b[1;32m    656\u001b[0m         \u001b[39mself\u001b[39m\u001b[39m.\u001b[39m_num_yielded \u001b[39m>\u001b[39m \u001b[39mself\u001b[39m\u001b[39m.\u001b[39m_IterableDataset_len_called:\n",
      "File \u001b[0;32m~/opt/anaconda3/envs/d2l/lib/python3.9/site-packages/torch/utils/data/dataloader.py:692\u001b[0m, in \u001b[0;36m_SingleProcessDataLoaderIter._next_data\u001b[0;34m(self)\u001b[0m\n\u001b[1;32m    690\u001b[0m \u001b[39mdef\u001b[39;00m \u001b[39m_next_data\u001b[39m(\u001b[39mself\u001b[39m):\n\u001b[1;32m    691\u001b[0m     index \u001b[39m=\u001b[39m \u001b[39mself\u001b[39m\u001b[39m.\u001b[39m_next_index()  \u001b[39m# may raise StopIteration\u001b[39;00m\n\u001b[0;32m--> 692\u001b[0m     data \u001b[39m=\u001b[39m \u001b[39mself\u001b[39;49m\u001b[39m.\u001b[39;49m_dataset_fetcher\u001b[39m.\u001b[39;49mfetch(index)  \u001b[39m# may raise StopIteration\u001b[39;00m\n\u001b[1;32m    693\u001b[0m     \u001b[39mif\u001b[39;00m \u001b[39mself\u001b[39m\u001b[39m.\u001b[39m_pin_memory:\n\u001b[1;32m    694\u001b[0m         data \u001b[39m=\u001b[39m _utils\u001b[39m.\u001b[39mpin_memory\u001b[39m.\u001b[39mpin_memory(data, \u001b[39mself\u001b[39m\u001b[39m.\u001b[39m_pin_memory_device)\n",
      "File \u001b[0;32m~/opt/anaconda3/envs/d2l/lib/python3.9/site-packages/torch/utils/data/_utils/fetch.py:49\u001b[0m, in \u001b[0;36m_MapDatasetFetcher.fetch\u001b[0;34m(self, possibly_batched_index)\u001b[0m\n\u001b[1;32m     47\u001b[0m \u001b[39mdef\u001b[39;00m \u001b[39mfetch\u001b[39m(\u001b[39mself\u001b[39m, possibly_batched_index):\n\u001b[1;32m     48\u001b[0m     \u001b[39mif\u001b[39;00m \u001b[39mself\u001b[39m\u001b[39m.\u001b[39mauto_collation:\n\u001b[0;32m---> 49\u001b[0m         data \u001b[39m=\u001b[39m [\u001b[39mself\u001b[39m\u001b[39m.\u001b[39mdataset[idx] \u001b[39mfor\u001b[39;00m idx \u001b[39min\u001b[39;00m possibly_batched_index]\n\u001b[1;32m     50\u001b[0m     \u001b[39melse\u001b[39;00m:\n\u001b[1;32m     51\u001b[0m         data \u001b[39m=\u001b[39m \u001b[39mself\u001b[39m\u001b[39m.\u001b[39mdataset[possibly_batched_index]\n",
      "File \u001b[0;32m~/opt/anaconda3/envs/d2l/lib/python3.9/site-packages/torch/utils/data/_utils/fetch.py:49\u001b[0m, in \u001b[0;36m<listcomp>\u001b[0;34m(.0)\u001b[0m\n\u001b[1;32m     47\u001b[0m \u001b[39mdef\u001b[39;00m \u001b[39mfetch\u001b[39m(\u001b[39mself\u001b[39m, possibly_batched_index):\n\u001b[1;32m     48\u001b[0m     \u001b[39mif\u001b[39;00m \u001b[39mself\u001b[39m\u001b[39m.\u001b[39mauto_collation:\n\u001b[0;32m---> 49\u001b[0m         data \u001b[39m=\u001b[39m [\u001b[39mself\u001b[39;49m\u001b[39m.\u001b[39;49mdataset[idx] \u001b[39mfor\u001b[39;00m idx \u001b[39min\u001b[39;00m possibly_batched_index]\n\u001b[1;32m     50\u001b[0m     \u001b[39melse\u001b[39;00m:\n\u001b[1;32m     51\u001b[0m         data \u001b[39m=\u001b[39m \u001b[39mself\u001b[39m\u001b[39m.\u001b[39mdataset[possibly_batched_index]\n",
      "\u001b[0;31mTypeError\u001b[0m: 'DataLoader' object is not subscriptable"
     ]
    }
   ],
   "source": [
    "learning_rate = 1e-3\n",
    "batch_size = 25\n",
    "epochs = 5\n",
    "\n",
    "loss_fn = nn.CrossEntropyLoss()\n",
    "optimizer = torch.optim.SGD(model.parameters(), lr=learning_rate)\n",
    "\n",
    "# for batch, (X, y) in enumerate(train_dataloader):\n",
    "#     print(batch)\n",
    "size = len(train_dataloader.dataset)\n",
    "# Set the model to training mode - important for batch normalization and dropout layers\n",
    "# Unnecessary in this situation but added for best practices\n",
    "model.train()\n",
    "for batch, (X, y) in enumerate(train_dataloader):\n",
    "    # Compute prediction and loss\n",
    "    pred = model(X)\n",
    "    loss = loss_fn(pred, y)\n",
    "\n",
    "    # Backpropagation\n",
    "    loss.backward()\n",
    "    optimizer.step()\n",
    "    optimizer.zero_grad()\n",
    "\n",
    "    if batch % 100 == 0:\n",
    "        loss, current = loss.item(), (batch + 1) * len(X)\n",
    "        print(f\"loss: {loss:>7f}  [{current:>5d}/{size:>5d}]\")\n"
   ]
  }
 ],
 "metadata": {
  "kernelspec": {
   "display_name": "base",
   "language": "python",
   "name": "python3"
  },
  "language_info": {
   "codemirror_mode": {
    "name": "ipython",
    "version": 3
   },
   "file_extension": ".py",
   "mimetype": "text/x-python",
   "name": "python",
   "nbconvert_exporter": "python",
   "pygments_lexer": "ipython3",
   "version": "3.9.16"
  }
 },
 "nbformat": 4,
 "nbformat_minor": 2
}
