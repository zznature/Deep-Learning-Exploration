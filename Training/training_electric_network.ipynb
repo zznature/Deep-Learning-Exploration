{
 "cells": [
  {
   "cell_type": "markdown",
   "metadata": {},
   "source": [
    "# Training the electric network\n",
    "\n",
    "Write a two-layer neural network to train image in raw format. The network is trained to predict the electric network from the image. The network is trained on the training set and evaluated on the test set. The network is trained using stochastic gradient descent with a fixed learning rate and no regularization."
   ]
  },
  {
   "cell_type": "code",
   "execution_count": 2,
   "metadata": {},
   "outputs": [],
   "source": [
    "# import the necessary packages\n",
    "import torch as torch\n",
    "import torch.nn as nn\n",
    "import torchvision.transforms as transforms\n",
    "import torchvision.datasets as datasets\n",
    "from torch.utils.data import DataLoader\n",
    "\n",
    "# from torchviz import make_dot\n",
    "# import raw image\n",
    "from PIL import Image\n",
    "import numpy as np\n",
    "import matplotlib.pyplot as plt\n",
    "\n",
    "import os\n"
   ]
  },
  {
   "cell_type": "markdown",
   "metadata": {},
   "source": [
    "## 1. transform the raw images to tensors"
   ]
  },
  {
   "cell_type": "code",
   "execution_count": 3,
   "metadata": {},
   "outputs": [],
   "source": [
    "def rawimage2tensor(raw_data, width=32, height=32):\n",
    "    # create a PIL image from the raw data\n",
    "    img = Image.frombytes('I;16', (width, height), raw_data, decoder_name='raw')\n",
    "\n",
    "    # convert the PIL image to a numpy array\n",
    "    image = np.array(img)\n",
    "\n",
    "    # convert uint16 to float32\n",
    "    image = image.astype(np.float32)\n",
    "\n",
    "    # flatten image to 1D array\n",
    "    image = image.flatten()\n",
    "\n",
    "    # convert the numpy array to a tensor\n",
    "    tensor = torch.from_numpy(image)\n",
    "\n",
    "    # return the tensor\n",
    "    return tensor"
   ]
  },
  {
   "cell_type": "markdown",
   "metadata": {},
   "source": [
    "### 1.1 read the image"
   ]
  },
  {
   "cell_type": "code",
   "execution_count": 4,
   "metadata": {},
   "outputs": [],
   "source": [
    "# # open the raw image file\n",
    "# with open('test_image/pic_20231025_15 1 2_991.raw', 'rb') as f:\n",
    "#     # read the raw image data\n",
    "#     raw_data = f.read()\n",
    "\n",
    "# initialize the dataset\n",
    "dataset = []\n",
    "\n",
    "# open the raw image file in folder '红外光测试'\n",
    "for image in os.listdir('红外光测试/img32x32_20231023_113512_flight/'):\n",
    "    with open('红外光测试/img32x32_20231023_113512_flight/' + image, 'rb') as f:\n",
    "        # read the raw image data\n",
    "        raw_data = f.read()\n",
    "        matrix = rawimage2tensor(raw_data)\n",
    "        label = 0  # 0 for flight\n",
    "        # append the image tensor into dataset\n",
    "        dataset.append((matrix, label))\n",
    "\n",
    "for image in os.listdir('红外光测试/img32x32_20231023_113737_oil/'):\n",
    "    with open('红外光测试/img32x32_20231023_113737_oil/' + image, 'rb') as f:\n",
    "        # read the raw image data\n",
    "        raw_data = f.read()\n",
    "        matrix = rawimage2tensor(raw_data)\n",
    "        label = 1  # 1 for oil-tank\n",
    "        # append the image tensor into dataset\n",
    "        dataset.append((matrix, label))\n",
    "\n",
    "for image in os.listdir('红外光测试/img32x32_20231023_113921_boat/'):\n",
    "    with open('红外光测试/img32x32_20231023_113921_boat/' + image, 'rb') as f:\n",
    "        # read the raw image data\n",
    "        raw_data = f.read()\n",
    "        matrix = rawimage2tensor(raw_data)\n",
    "        label = 2  # 2 for boat\n",
    "        # append the image tensor into dataset\n",
    "        dataset.append((matrix, label))"
   ]
  },
  {
   "cell_type": "markdown",
   "metadata": {},
   "source": [
    "## 2. make a dataset\n",
    "3 kinds of objects in 3 folders, 250 raw images in each folder, labeled as 0, 1, 2.\n",
    "\n",
    "`datasets.ImageFolder(root='./data', transform=transform)` do not support raw image, so we need to make a dataset by ourselves."
   ]
  },
  {
   "cell_type": "markdown",
   "metadata": {},
   "source": [
    "### 2.1 load a dataset"
   ]
  },
  {
   "cell_type": "code",
   "execution_count": 5,
   "metadata": {},
   "outputs": [
    {
     "name": "stdout",
     "output_type": "stream",
     "text": [
      "750\n",
      "torch.Size([1024])\n",
      "tensor([4268., 4277., 4430.,  ..., 4204., 2941., 2878.]) 0\n",
      "650 100\n"
     ]
    }
   ],
   "source": [
    "print(len(dataset))\n",
    "print(dataset[0][0].shape)\n",
    "# check a random sample in dataset\n",
    "sample = dataset[0]\n",
    "print(sample[0], sample[1])\n",
    "# plt.imshow(sample[0], cmap='gray')\n",
    "\n",
    "# make random order of dataset samples\n",
    "np.random.shuffle(dataset)\n",
    "\n",
    "# split the dataset into training set and test set\n",
    "train_dataset = dataset[:int(0.867*len(dataset))]\n",
    "test_dataset = dataset[int(0.867*len(dataset)):]\n",
    "print(len(train_dataset), len(test_dataset))\n",
    "\n",
    "batch_size = 10\n",
    "train_dataloader = DataLoader(train_dataset, batch_size=batch_size)\n",
    "test_dataloader = DataLoader(test_dataset, batch_size=batch_size)\n"
   ]
  },
  {
   "cell_type": "markdown",
   "metadata": {},
   "source": [
    "### 2.2 check the dataset"
   ]
  },
  {
   "cell_type": "code",
   "execution_count": 18,
   "metadata": {},
   "outputs": [
    {
     "name": "stdout",
     "output_type": "stream",
     "text": [
      "0 torch.Size([10, 1024]) torch.Size([10]) \n",
      " tensor([[4602., 4477., 4293.,  ..., 4570., 2896., 2963.],\n",
      "        [4393., 4525., 4796.,  ..., 3436., 2920., 2729.],\n",
      "        [3016., 2949., 2909.,  ..., 5113., 3060., 2900.],\n",
      "        ...,\n",
      "        [4681., 4650., 4654.,  ..., 5114., 3070., 3017.],\n",
      "        [3195., 3291., 3250.,  ..., 4847., 2902., 2740.],\n",
      "        [4202., 4235., 4322.,  ..., 5264., 3079., 2931.]]) tensor([0, 1, 1, 0, 2, 2, 1, 0, 2, 1])\n"
     ]
    },
    {
     "data": {
      "image/png": "[encoded data removed]",
      "text/plain": [
       "<Figure size 800x320 with 10 Axes>"
      ]
     },
     "metadata": {},
     "output_type": "display_data"
    }
   ],
   "source": [
    "for batch, (X, y) in enumerate(train_dataloader):\n",
    "    print(batch, X.shape, y.shape, '\\n',\n",
    "            X, y)\n",
    "    break\n",
    "\n",
    "# plot the 5 images in the first batch\n",
    "plt.figure(figsize=(8, 3.2))\n",
    "for i in range(batch_size):\n",
    "    plt.subplot(2, 5, i+1)\n",
    "    plt.imshow(X[i].reshape(32, 32), cmap='gray')\n",
    "    plt.title(y[i].item())\n",
    "    plt.axis('off')"
   ]
  },
  {
   "cell_type": "markdown",
   "metadata": {},
   "source": [
    "## 3. define the network\n",
    "\n",
    "The input tensor is a 32 * 32 raw image and flatten to 1 * 1024.\n",
    "\n",
    "The weight value in the 1st layer should be binary (+1 or -1), the dimension of the weight matrix is 1024*32. The activation function is relu function.\n",
    "\n",
    "The weight value in the 2nd layer signed 16 bit, the dimension of the weight matrix is 32 *3. The output is 1 *3 matrix. The activation function is softmax function."
   ]
  },
  {
   "cell_type": "code",
   "execution_count": 7,
   "metadata": {},
   "outputs": [],
   "source": [
    "# define the network\n",
    "# The weight value in the 1st layer should be binary (+1 or -1), \n",
    "# the dimension of the weight matrix is 1024*32. The activation function is relu function.\n",
    "# The weight value in the 2nd layer signed 16 bit, the dimension of the weight matrix is 32 *3. \n",
    "# The output is 1 *3 matrix. The activation function is softmax function.\n",
    "\n",
    "class Network(nn.Module):\n",
    "    def __init__(self):\n",
    "        super(Network, self).__init__()\n",
    "        self.fc1 = nn.Linear(1024, 32)\n",
    "        self.fc2 = nn.Linear(32, 3)\n",
    "\n",
    "    def forward(self, x):\n",
    "        x = torch.relu(self.fc1(x))\n",
    "        x = self.fc2(x)\n",
    "        return x\n"
   ]
  },
  {
   "cell_type": "code",
   "execution_count": 8,
   "metadata": {},
   "outputs": [
    {
     "ename": "NameError",
     "evalue": "name 'make_dot' is not defined",
     "output_type": "error",
     "traceback": [
      "\u001b[1;31m---------------------------------------------------------------------------\u001b[0m",
      "\u001b[1;31mNameError\u001b[0m                                 Traceback (most recent call last)",
      "\u001b[1;32mc:\\Users\\zhouz\\Nutstore\\1\\Code\\Deep-Learning-Exploration\\Training\\training_electric_network.ipynb Cell 13\u001b[0m line \u001b[0;36m7\n\u001b[0;32m      <a href='vscode-notebook-cell:/c%3A/Users/zhouz/Nutstore/1/Code/Deep-Learning-Exploration/Training/training_electric_network.ipynb#X24sZmlsZQ%3D%3D?line=3'>4</a>\u001b[0m y \u001b[39m=\u001b[39m net(x)\n\u001b[0;32m      <a href='vscode-notebook-cell:/c%3A/Users/zhouz/Nutstore/1/Code/Deep-Learning-Exploration/Training/training_electric_network.ipynb#X24sZmlsZQ%3D%3D?line=5'>6</a>\u001b[0m \u001b[39m# Create a visualization of the forward pass through your net.\u001b[39;00m\n\u001b[1;32m----> <a href='vscode-notebook-cell:/c%3A/Users/zhouz/Nutstore/1/Code/Deep-Learning-Exploration/Training/training_electric_network.ipynb#X24sZmlsZQ%3D%3D?line=6'>7</a>\u001b[0m dot \u001b[39m=\u001b[39m make_dot(y\u001b[39m.\u001b[39mmean(), params\u001b[39m=\u001b[39m\u001b[39mdict\u001b[39m(net\u001b[39m.\u001b[39mnamed_parameters()))\n\u001b[0;32m      <a href='vscode-notebook-cell:/c%3A/Users/zhouz/Nutstore/1/Code/Deep-Learning-Exploration/Training/training_electric_network.ipynb#X24sZmlsZQ%3D%3D?line=7'>8</a>\u001b[0m dot\u001b[39m.\u001b[39mformat \u001b[39m=\u001b[39m \u001b[39m'\u001b[39m\u001b[39mpng\u001b[39m\u001b[39m'\u001b[39m\n\u001b[0;32m      <a href='vscode-notebook-cell:/c%3A/Users/zhouz/Nutstore/1/Code/Deep-Learning-Exploration/Training/training_electric_network.ipynb#X24sZmlsZQ%3D%3D?line=8'>9</a>\u001b[0m dot\u001b[39m.\u001b[39mrender(\u001b[39m\"\u001b[39m\u001b[39mnetwork_structure\u001b[39m\u001b[39m\"\u001b[39m)\n",
      "\u001b[1;31mNameError\u001b[0m: name 'make_dot' is not defined"
     ]
    }
   ],
   "source": [
    "\n",
    "# Assume that `net` is your model and `x` is a sample input that your model expects.\n",
    "net = Network()\n",
    "x = torch.randn(1, 1024)  # Adjust the size of x according to your input tensor shape\n",
    "y = net(x)\n",
    "\n",
    "# Create a visualization of the forward pass through your net.\n",
    "dot = make_dot(y.mean(), params=dict(net.named_parameters()))\n",
    "dot.format = 'png'\n",
    "dot.render(\"network_structure\")"
   ]
  },
  {
   "cell_type": "markdown",
   "metadata": {},
   "source": [
    "## 4. train the network"
   ]
  },
  {
   "cell_type": "code",
   "execution_count": 9,
   "metadata": {},
   "outputs": [
    {
     "name": "stdout",
     "output_type": "stream",
     "text": [
      "Network(\n",
      "  (fc1): Linear(in_features=1024, out_features=32, bias=True)\n",
      "  (fc2): Linear(in_features=32, out_features=3, bias=True)\n",
      ")\n",
      "CrossEntropyLoss()\n",
      "SGD (\n",
      "Parameter Group 0\n",
      "    dampening: 0\n",
      "    differentiable: False\n",
      "    foreach: None\n",
      "    lr: 0.005\n",
      "    maximize: False\n",
      "    momentum: 0\n",
      "    nesterov: False\n",
      "    weight_decay: 0\n",
      ")\n"
     ]
    }
   ],
   "source": [
    "model = Network()\n",
    "print(model)\n",
    "\n",
    "learning_rate = 5e-3\n",
    "\n",
    "loss_fn = nn.CrossEntropyLoss()\n",
    "print(loss_fn)\n",
    "optimizer = torch.optim.SGD(model.parameters(), lr=learning_rate)\n",
    "print(optimizer)"
   ]
  },
  {
   "cell_type": "code",
   "execution_count": 10,
   "metadata": {},
   "outputs": [],
   "source": [
    "def train_loop(dataloader, model, loss_fn, optimizer):\n",
    "    size = len(dataloader.dataset)\n",
    "    # Set the model to training mode - important for batch normalization and dropout layers\n",
    "    # Unnecessary in this situation but added for best practices\n",
    "    model.train()\n",
    "    for batch, (X, y) in enumerate(dataloader):\n",
    "        # Compute prediction and loss\n",
    "        pred = model(X)\n",
    "        loss = loss_fn(pred, y)\n",
    "\n",
    "        # Backpropagation\n",
    "        loss.backward()\n",
    "        optimizer.step()\n",
    "        optimizer.zero_grad()\n",
    "\n",
    "        if batch % 20 == 0:\n",
    "            loss, current = loss.item(), (batch + 1) * len(X)\n",
    "            print(f\"loss: {loss:>7f}  [{current:>5d}/{size:>5d}]\")\n",
    "\n",
    "\n",
    "def test_loop(dataloader, model, loss_fn):\n",
    "    # Set the model to evaluation mode - important for batch normalization and dropout layers\n",
    "    # Unnecessary in this situation but added for best practices\n",
    "    model.eval()\n",
    "    size = len(dataloader.dataset)\n",
    "    num_batches = len(dataloader)\n",
    "    test_loss, correct = 0, 0\n",
    "\n",
    "    # Evaluating the model with torch.no_grad() ensures that no gradients are computed during test mode\n",
    "    # also serves to reduce unnecessary gradient computations and memory usage for tensors with requires_grad=True\n",
    "    with torch.no_grad():\n",
    "        for X, y in dataloader:\n",
    "            pred = model(X)\n",
    "            test_loss += loss_fn(pred, y).item()\n",
    "            correct += (pred.argmax(1) == y).type(torch.float).sum().item()\n",
    "\n",
    "    test_loss /= num_batches\n",
    "    correct /= size\n",
    "    print(f\"Test Error: \\n Accuracy: {(100*correct):>0.1f}%, Avg loss: {test_loss:>8f} \\n\")"
   ]
  },
  {
   "cell_type": "code",
   "execution_count": 11,
   "metadata": {},
   "outputs": [
    {
     "name": "stdout",
     "output_type": "stream",
     "text": [
      "Epoch 1\n",
      "-------------------------------\n",
      "loss: 605.142761  [   10/  650]\n",
      "loss: 1.090137  [  210/  650]\n",
      "loss: 1.093685  [  410/  650]\n",
      "loss: 1.099500  [  610/  650]\n",
      "Test Error: \n",
      " Accuracy: 33.0%, Avg loss: 1.470298 \n",
      "\n",
      "Epoch 2\n",
      "-------------------------------\n",
      "loss: 1.092868  [   10/  650]\n",
      "loss: 1.091281  [  210/  650]\n",
      "loss: 1.093071  [  410/  650]\n",
      "loss: 1.100199  [  610/  650]\n",
      "Test Error: \n",
      " Accuracy: 33.0%, Avg loss: 1.470564 \n",
      "\n",
      "Epoch 3\n",
      "-------------------------------\n",
      "loss: 1.093163  [   10/  650]\n",
      "loss: 1.092427  [  210/  650]\n",
      "loss: 1.092557  [  410/  650]\n",
      "loss: 1.100895  [  610/  650]\n",
      "Test Error: \n",
      " Accuracy: 33.0%, Avg loss: 1.470855 \n",
      "\n",
      "Epoch 4\n",
      "-------------------------------\n",
      "loss: 1.093475  [   10/  650]\n",
      "loss: 1.093512  [  210/  650]\n",
      "loss: 1.092128  [  410/  650]\n",
      "loss: 1.101575  [  610/  650]\n",
      "Test Error: \n",
      " Accuracy: 33.0%, Avg loss: 1.471161 \n",
      "\n",
      "Epoch 5\n",
      "-------------------------------\n",
      "loss: 1.093796  [   10/  650]\n",
      "loss: 1.094533  [  210/  650]\n",
      "loss: 1.091769  [  410/  650]\n",
      "loss: 1.102230  [  610/  650]\n",
      "Test Error: \n",
      " Accuracy: 33.0%, Avg loss: 1.471470 \n",
      "\n",
      "Epoch 6\n",
      "-------------------------------\n",
      "loss: 1.094115  [   10/  650]\n",
      "loss: 1.095488  [  210/  650]\n",
      "loss: 1.091467  [  410/  650]\n",
      "loss: 1.102854  [  610/  650]\n",
      "Test Error: \n",
      " Accuracy: 33.0%, Avg loss: 1.471776 \n",
      "\n",
      "Epoch 7\n",
      "-------------------------------\n",
      "loss: 1.094428  [   10/  650]\n",
      "loss: 1.096375  [  210/  650]\n",
      "loss: 1.091214  [  410/  650]\n",
      "loss: 1.103444  [  610/  650]\n",
      "Test Error: \n",
      " Accuracy: 33.0%, Avg loss: 1.472073 \n",
      "\n",
      "Epoch 8\n",
      "-------------------------------\n",
      "loss: 1.094730  [   10/  650]\n",
      "loss: 1.097196  [  210/  650]\n",
      "loss: 1.091000  [  410/  650]\n",
      "loss: 1.103997  [  610/  650]\n",
      "Test Error: \n",
      " Accuracy: 33.0%, Avg loss: 1.472359 \n",
      "\n",
      "Epoch 9\n",
      "-------------------------------\n",
      "loss: 1.095017  [   10/  650]\n",
      "loss: 1.097952  [  210/  650]\n",
      "loss: 1.090819  [  410/  650]\n",
      "loss: 1.104512  [  610/  650]\n",
      "Test Error: \n",
      " Accuracy: 33.0%, Avg loss: 1.472631 \n",
      "\n",
      "Epoch 10\n",
      "-------------------------------\n",
      "loss: 1.095289  [   10/  650]\n",
      "loss: 1.098646  [  210/  650]\n",
      "loss: 1.090666  [  410/  650]\n",
      "loss: 1.104990  [  610/  650]\n",
      "Test Error: \n",
      " Accuracy: 33.0%, Avg loss: 1.472887 \n",
      "\n",
      "Done!\n"
     ]
    }
   ],
   "source": [
    "loss_fn = nn.CrossEntropyLoss()\n",
    "optimizer = torch.optim.SGD(model.parameters(), lr=learning_rate)\n",
    "\n",
    "epochs = 10\n",
    "for t in range(epochs):\n",
    "    print(f\"Epoch {t+1}\\n-------------------------------\")\n",
    "    train_loop(train_dataloader, model, loss_fn, optimizer)\n",
    "    test_loop(test_dataloader, model, loss_fn)\n",
    "print(\"Done!\")"
   ]
  }
 ],
 "metadata": {
  "kernelspec": {
   "display_name": "base",
   "language": "python",
   "name": "python3"
  },
  "language_info": {
   "codemirror_mode": {
    "name": "ipython",
    "version": 3
   },
   "file_extension": ".py",
   "mimetype": "text/x-python",
   "name": "python",
   "nbconvert_exporter": "python",
   "pygments_lexer": "ipython3",
   "version": "3.9.16"
  }
 },
 "nbformat": 4,
 "nbformat_minor": 2
}
