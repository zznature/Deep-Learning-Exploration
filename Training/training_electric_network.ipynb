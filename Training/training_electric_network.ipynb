{
 "cells": [
  {
   "cell_type": "markdown",
   "metadata": {},
   "source": [
    "# Training the electric network\n",
    "\n",
    "Write a two-layer neural network to train image in raw format. The network is trained to predict the electric network from the image. The network is trained on the training set and evaluated on the test set. The network is trained using stochastic gradient descent with a fixed learning rate and no regularization."
   ]
  },
  {
   "cell_type": "code",
   "execution_count": 1,
   "metadata": {},
   "outputs": [],
   "source": [
    "# import the necessary packages\n",
    "import torch as torch\n",
    "import torch.nn as nn\n",
    "import torchvision.transforms as transforms\n",
    "import torchvision.datasets as datasets\n",
    "from torch.utils.data import DataLoader\n",
    "\n",
    "# import raw image\n",
    "from PIL import Image\n",
    "import numpy as np\n",
    "import matplotlib.pyplot as plt\n",
    "\n",
    "import os"
   ]
  },
  {
   "cell_type": "markdown",
   "metadata": {},
   "source": [
    "## 1. have a feel of the raw image"
   ]
  },
  {
   "cell_type": "code",
   "execution_count": 2,
   "metadata": {},
   "outputs": [],
   "source": [
    "def rawimage2tensor(raw_data, width=32, height=32):\n",
    "    # create a PIL image from the raw data\n",
    "    img = Image.frombytes('I;16', (width, height), raw_data, decoder_name='raw')\n",
    "\n",
    "    # convert the PIL image to a numpy array\n",
    "    image = np.array(img)\n",
    "\n",
    "    # convert uint16 to int16\n",
    "    image = image.astype(np.int16)\n",
    "\n",
    "    # convert the numpy array to a tensor\n",
    "    tensor = torch.from_numpy(image)\n",
    "\n",
    "    # return the tensor\n",
    "    return tensor"
   ]
  },
  {
   "cell_type": "markdown",
   "metadata": {},
   "source": [
    "### 1.1 read the image"
   ]
  },
  {
   "cell_type": "code",
   "execution_count": 6,
   "metadata": {},
   "outputs": [],
   "source": [
    "# # open the raw image file\n",
    "# with open('test_image/pic_20231025_15 1 2_991.raw', 'rb') as f:\n",
    "#     # read the raw image data\n",
    "#     raw_data = f.read()\n",
    "\n",
    "# initialize the dataset\n",
    "dataset = []\n",
    "\n",
    "# open the raw image file in folder '红外光测试'\n",
    "for image in os.listdir('红外光测试/img32x32_20231023_113512_flight/'):\n",
    "    with open('红外光测试/img32x32_20231023_113512_flight/' + image, 'rb') as f:\n",
    "        # read the raw image data\n",
    "        raw_data = f.read()\n",
    "        matrix = rawimage2tensor(raw_data)\n",
    "        label = 0  # 0 for flight\n",
    "        # append the image tensor into dataset\n",
    "        dataset.append((matrix, label))\n",
    "\n",
    "for image in os.listdir('红外光测试/img32x32_20231023_113737_oil/'):\n",
    "    with open('红外光测试/img32x32_20231023_113737_oil/' + image, 'rb') as f:\n",
    "        # read the raw image data\n",
    "        raw_data = f.read()\n",
    "        matrix = rawimage2tensor(raw_data)\n",
    "        label = 1  # 1 for oil-tank\n",
    "        # append the image tensor into dataset\n",
    "        dataset.append((matrix, label))\n",
    "\n",
    "for image in os.listdir('红外光测试/img32x32_20231023_113921_boat/'):\n",
    "    with open('红外光测试/img32x32_20231023_113921_boat/' + image, 'rb') as f:\n",
    "        # read the raw image data\n",
    "        raw_data = f.read()\n",
    "        matrix = rawimage2tensor(raw_data)\n",
    "        label = 2  # 2 for boat\n",
    "        # append the image tensor into dataset\n",
    "        dataset.append((matrix, label))"
   ]
  },
  {
   "cell_type": "code",
   "execution_count": 17,
   "metadata": {},
   "outputs": [
    {
     "name": "stdout",
     "output_type": "stream",
     "text": [
      "750\n",
      "torch.Size([32, 32])\n",
      "tensor([[4268, 4277, 4430,  ..., 5454, 4849, 3208],\n",
      "        [6667, 6710, 7087,  ..., 7364, 6053, 3205],\n",
      "        [6437, 6295, 6864,  ..., 5828, 4586, 3230],\n",
      "        ...,\n",
      "        [4858, 5170, 4752,  ..., 4095, 2901, 2748],\n",
      "        [4840, 5028, 4715,  ..., 4387, 2953, 2824],\n",
      "        [5001, 5118, 4673,  ..., 4204, 2941, 2878]], dtype=torch.int16) 0\n",
      "tensor([[3093, 3141, 3113,  ..., 3373, 3531, 3130],\n",
      "        [5696, 5946, 5944,  ..., 5403, 4834, 3227],\n",
      "        [7764, 8151, 7958,  ..., 4892, 3996, 3195],\n",
      "        ...,\n",
      "        [4893, 5218, 4895,  ..., 5048, 2994, 2895],\n",
      "        [5022, 5135, 4731,  ..., 5090, 2984, 3049],\n",
      "        [5695, 5389, 4712,  ..., 5161, 3109, 2901]], dtype=torch.int16) 1\n",
      "tensor([[3133, 3069, 3135,  ..., 3473, 3358, 2828],\n",
      "        [4175, 4059, 4011,  ..., 4316, 3753, 2748],\n",
      "        [4432, 4171, 4388,  ..., 3687, 3397, 2807],\n",
      "        ...,\n",
      "        [3567, 3836, 3459,  ..., 3144, 2628, 2567],\n",
      "        [3515, 3587, 3400,  ..., 3240, 2666, 2670],\n",
      "        [3376, 3302, 3462,  ..., 3331, 2688, 2687]], dtype=torch.int16) 2\n"
     ]
    },
    {
     "data": {
      "text/plain": [
       "<matplotlib.image.AxesImage at 0x1cd7485fcd0>"
      ]
     },
     "execution_count": 17,
     "metadata": {},
     "output_type": "execute_result"
    },
    {
     "data": {
      "image/png": "[encoded data removed]",
      "text/plain": [
       "<Figure size 640x480 with 1 Axes>"
      ]
     },
     "metadata": {},
     "output_type": "display_data"
    }
   ],
   "source": [
    "print(len(dataset))\n",
    "print(dataset[0][0].shape)\n",
    "# check a random sample in dataset\n",
    "sample = dataset[0]\n",
    "print(sample[0], sample[1])\n",
    "plt.imshow(sample[0], cmap='gray')\n",
    "\n",
    "sample = dataset[250]\n",
    "print(sample[0], sample[1])\n",
    "plt.imshow(sample[0], cmap='gray')\n",
    "\n",
    "sample = dataset[500]\n",
    "print(sample[0], sample[1])\n",
    "plt.imshow(sample[0], cmap='gray')"
   ]
  },
  {
   "cell_type": "markdown",
   "metadata": {},
   "source": [
    "## 2. make a dataset\n",
    "3 kinds of objects in 3 folders, 250 raw images in each folder, labeled as 0, 1, 2.\n",
    "\n",
    "`datasets.ImageFolder(root='./data', transform=transform)` do not support raw image, so we need to make a dataset by ourselves."
   ]
  },
  {
   "cell_type": "code",
   "execution_count": 1,
   "metadata": {},
   "outputs": [
    {
     "ename": "NameError",
     "evalue": "name 'datasets' is not defined",
     "output_type": "error",
     "traceback": [
      "\u001b[1;31m---------------------------------------------------------------------------\u001b[0m",
      "\u001b[1;31mNameError\u001b[0m                                 Traceback (most recent call last)",
      "\u001b[1;32mc:\\Users\\zhouz\\Nutstore\\1\\Code\\Deep-Learning-Exploration\\Training\\training_electric_network.ipynb Cell 7\u001b[0m line \u001b[0;36m5\n\u001b[0;32m      <a href='vscode-notebook-cell:/c%3A/Users/zhouz/Nutstore/1/Code/Deep-Learning-Exploration/Training/training_electric_network.ipynb#W6sZmlsZQ%3D%3D?line=1'>2</a>\u001b[0m root \u001b[39m=\u001b[39m \u001b[39m'\u001b[39m\u001b[39m红外光测试\u001b[39m\u001b[39m'\u001b[39m\n\u001b[0;32m      <a href='vscode-notebook-cell:/c%3A/Users/zhouz/Nutstore/1/Code/Deep-Learning-Exploration/Training/training_electric_network.ipynb#W6sZmlsZQ%3D%3D?line=3'>4</a>\u001b[0m \u001b[39m# create the Image dataset with only raw images\u001b[39;00m\n\u001b[1;32m----> <a href='vscode-notebook-cell:/c%3A/Users/zhouz/Nutstore/1/Code/Deep-Learning-Exploration/Training/training_electric_network.ipynb#W6sZmlsZQ%3D%3D?line=4'>5</a>\u001b[0m dataset \u001b[39m=\u001b[39m datasets\u001b[39m.\u001b[39mImageFolder(root\u001b[39m=\u001b[39mroot, transform\u001b[39m=\u001b[39mtransform, )\n\u001b[0;32m      <a href='vscode-notebook-cell:/c%3A/Users/zhouz/Nutstore/1/Code/Deep-Learning-Exploration/Training/training_electric_network.ipynb#W6sZmlsZQ%3D%3D?line=6'>7</a>\u001b[0m \u001b[39m# print the class labels\u001b[39;00m\n\u001b[0;32m      <a href='vscode-notebook-cell:/c%3A/Users/zhouz/Nutstore/1/Code/Deep-Learning-Exploration/Training/training_electric_network.ipynb#W6sZmlsZQ%3D%3D?line=7'>8</a>\u001b[0m \u001b[39mprint\u001b[39m(\u001b[39m'\u001b[39m\u001b[39mdataset.class:\u001b[39m\u001b[39m'\u001b[39m, dataset\u001b[39m.\u001b[39mclasses)\n",
      "\u001b[1;31mNameError\u001b[0m: name 'datasets' is not defined"
     ]
    }
   ],
   "source": [
    "\n",
    "# define the path to the root folder of the dataset\n",
    "root = '红外光测试'\n",
    "\n",
    "# create the Image dataset with only raw images\n",
    "dataset = datasets.ImageFolder(root=root, transform=transform, )\n",
    "\n",
    "# print the class labels\n",
    "print('dataset.class:', dataset.classes)\n",
    "\n",
    "# add label to images in each folder\n",
    "dataset.class_to_idx = {'img32x32_20231023_113512_flight': 0, \n",
    "                        'img32x32_20231023_113737_oil': 1, \n",
    "                        'img32x32_20231023_113921_boat': 2}\n",
    "\n",
    "# print an example in dataset\n",
    "print(dataset[1], '\\n', \n",
    "    dataset[1][0].shape, '\\n',\n",
    "    dataset[1][1])\n"
   ]
  },
  {
   "cell_type": "markdown",
   "metadata": {},
   "source": [
    "### import dataset"
   ]
  },
  {
   "cell_type": "code",
   "execution_count": 18,
   "metadata": {},
   "outputs": [],
   "source": [
    "\n",
    "# # print the number of images per class\n",
    "# print(dataset.class_counts)\n",
    "training_dataloader = DataLoader(dataset, batch_size=25, shuffle=True)\n",
    "# train_dataloader = DataLoader(training_data, batch_size=25)"
   ]
  },
  {
   "cell_type": "markdown",
   "metadata": {},
   "source": [
    "## 3. define the network\n",
    "\n",
    "The input tensor is a 32 * 32 raw image and flatten to 1 * 1024.\n",
    "\n",
    "The weight value in the 1st layer should be binary (+1 or -1), the dimension of the weight matrix is 1024*32. The activation function is relu function.\n",
    "\n",
    "The weight value in the 2nd layer signed 16 bit, the dimension of the weight matrix is 32 *3. The output is 1 *3 matrix. The activation function is softmax function."
   ]
  },
  {
   "cell_type": "code",
   "execution_count": 11,
   "metadata": {},
   "outputs": [],
   "source": [
    "# define the network\n",
    "# The weight value in the 1st layer should be binary (+1 or -1), \n",
    "# the dimension of the weight matrix is 1024*32. The activation function is relu function.\n",
    "# The weight value in the 2nd layer signed 16 bit, the dimension of the weight matrix is 32 *3. \n",
    "# The output is 1 *3 matrix. The activation function is softmax function.\n",
    "\n",
    "class Network(nn.Module):\n",
    "    def __init__(self):\n",
    "        super(Network, self).__init__()\n",
    "        self.fc1 = nn.Linear(32*32, 32)\n",
    "        self.fc2 = nn.Linear(32, 3)\n",
    "\n",
    "    def forward(self, x):\n",
    "        x = torch.relu(self.fc1(x))\n",
    "        x = self.fc2(x)\n",
    "        return x\n",
    "\n",
    "    # def binary(self):\n",
    "    #     self.fc1.weight.data = torch.where(self.fc1.weight.data > 0, \n",
    "    #             torch.ones_like(self.fc1.weight.data),\n",
    "    #             -torch.ones_like(self.fc1.weight.data))"
   ]
  },
  {
   "cell_type": "markdown",
   "metadata": {},
   "source": [
    "## 4. train the network"
   ]
  },
  {
   "cell_type": "code",
   "execution_count": 12,
   "metadata": {},
   "outputs": [],
   "source": [
    "\n",
    "model = Network()"
   ]
  },
  {
   "cell_type": "code",
   "execution_count": 13,
   "metadata": {},
   "outputs": [],
   "source": [
    "def train_loop(dataloader, model, loss_fn, optimizer):\n",
    "    size = len(dataloader.dataset)\n",
    "    # Set the model to training mode - important for batch normalization and dropout layers\n",
    "    # Unnecessary in this situation but added for best practices\n",
    "    model.train()\n",
    "    for batch, (X, y) in enumerate(dataloader):\n",
    "        # Compute prediction and loss\n",
    "        pred = model(X)\n",
    "        loss = loss_fn(pred, y)\n",
    "\n",
    "        # Backpropagation\n",
    "        loss.backward()\n",
    "        optimizer.step()\n",
    "        optimizer.zero_grad()\n",
    "\n",
    "        if batch % 50 == 0:\n",
    "            loss, current = loss.item(), (batch + 1) * len(X)\n",
    "            print(f\"loss: {loss:>7f}  [{current:>5d}/{size:>5d}]\")"
   ]
  },
  {
   "cell_type": "code",
   "execution_count": 19,
   "metadata": {},
   "outputs": [
    {
     "ename": "TypeError",
     "evalue": "'DataLoader' object is not subscriptable",
     "output_type": "error",
     "traceback": [
      "\u001b[1;31m---------------------------------------------------------------------------\u001b[0m",
      "\u001b[1;31mTypeError\u001b[0m                                 Traceback (most recent call last)",
      "\u001b[1;32mc:\\Users\\zhouz\\Nutstore\\1\\Code\\Deep-Learning-Exploration\\Training\\training_electric_network.ipynb Cell 17\u001b[0m line \u001b[0;36m1\n\u001b[0;32m     <a href='vscode-notebook-cell:/c%3A/Users/zhouz/Nutstore/1/Code/Deep-Learning-Exploration/Training/training_electric_network.ipynb#X20sZmlsZQ%3D%3D?line=10'>11</a>\u001b[0m \u001b[39m# Set the model to training mode - important for batch normalization and dropout layers\u001b[39;00m\n\u001b[0;32m     <a href='vscode-notebook-cell:/c%3A/Users/zhouz/Nutstore/1/Code/Deep-Learning-Exploration/Training/training_electric_network.ipynb#X20sZmlsZQ%3D%3D?line=11'>12</a>\u001b[0m \u001b[39m# Unnecessary in this situation but added for best practices\u001b[39;00m\n\u001b[0;32m     <a href='vscode-notebook-cell:/c%3A/Users/zhouz/Nutstore/1/Code/Deep-Learning-Exploration/Training/training_electric_network.ipynb#X20sZmlsZQ%3D%3D?line=12'>13</a>\u001b[0m model\u001b[39m.\u001b[39mtrain()\n\u001b[1;32m---> <a href='vscode-notebook-cell:/c%3A/Users/zhouz/Nutstore/1/Code/Deep-Learning-Exploration/Training/training_electric_network.ipynb#X20sZmlsZQ%3D%3D?line=13'>14</a>\u001b[0m \u001b[39mfor\u001b[39;00m batch, (X, y) \u001b[39min\u001b[39;00m \u001b[39menumerate\u001b[39m(train_dataloader):\n\u001b[0;32m     <a href='vscode-notebook-cell:/c%3A/Users/zhouz/Nutstore/1/Code/Deep-Learning-Exploration/Training/training_electric_network.ipynb#X20sZmlsZQ%3D%3D?line=14'>15</a>\u001b[0m     \u001b[39m# Compute prediction and loss\u001b[39;00m\n\u001b[0;32m     <a href='vscode-notebook-cell:/c%3A/Users/zhouz/Nutstore/1/Code/Deep-Learning-Exploration/Training/training_electric_network.ipynb#X20sZmlsZQ%3D%3D?line=15'>16</a>\u001b[0m     pred \u001b[39m=\u001b[39m model(X)\n\u001b[0;32m     <a href='vscode-notebook-cell:/c%3A/Users/zhouz/Nutstore/1/Code/Deep-Learning-Exploration/Training/training_electric_network.ipynb#X20sZmlsZQ%3D%3D?line=16'>17</a>\u001b[0m     loss \u001b[39m=\u001b[39m loss_fn(pred, y)\n",
      "File \u001b[1;32mc:\\Users\\zhouz\\anaconda3\\envs\\d2l\\lib\\site-packages\\torch\\utils\\data\\dataloader.py:633\u001b[0m, in \u001b[0;36m_BaseDataLoaderIter.__next__\u001b[1;34m(self)\u001b[0m\n\u001b[0;32m    630\u001b[0m \u001b[39mif\u001b[39;00m \u001b[39mself\u001b[39m\u001b[39m.\u001b[39m_sampler_iter \u001b[39mis\u001b[39;00m \u001b[39mNone\u001b[39;00m:\n\u001b[0;32m    631\u001b[0m     \u001b[39m# TODO(https://github.com/pytorch/pytorch/issues/76750)\u001b[39;00m\n\u001b[0;32m    632\u001b[0m     \u001b[39mself\u001b[39m\u001b[39m.\u001b[39m_reset()  \u001b[39m# type: ignore[call-arg]\u001b[39;00m\n\u001b[1;32m--> 633\u001b[0m data \u001b[39m=\u001b[39m \u001b[39mself\u001b[39;49m\u001b[39m.\u001b[39;49m_next_data()\n\u001b[0;32m    634\u001b[0m \u001b[39mself\u001b[39m\u001b[39m.\u001b[39m_num_yielded \u001b[39m+\u001b[39m\u001b[39m=\u001b[39m \u001b[39m1\u001b[39m\n\u001b[0;32m    635\u001b[0m \u001b[39mif\u001b[39;00m \u001b[39mself\u001b[39m\u001b[39m.\u001b[39m_dataset_kind \u001b[39m==\u001b[39m _DatasetKind\u001b[39m.\u001b[39mIterable \u001b[39mand\u001b[39;00m \\\n\u001b[0;32m    636\u001b[0m         \u001b[39mself\u001b[39m\u001b[39m.\u001b[39m_IterableDataset_len_called \u001b[39mis\u001b[39;00m \u001b[39mnot\u001b[39;00m \u001b[39mNone\u001b[39;00m \u001b[39mand\u001b[39;00m \\\n\u001b[0;32m    637\u001b[0m         \u001b[39mself\u001b[39m\u001b[39m.\u001b[39m_num_yielded \u001b[39m>\u001b[39m \u001b[39mself\u001b[39m\u001b[39m.\u001b[39m_IterableDataset_len_called:\n",
      "File \u001b[1;32mc:\\Users\\zhouz\\anaconda3\\envs\\d2l\\lib\\site-packages\\torch\\utils\\data\\dataloader.py:677\u001b[0m, in \u001b[0;36m_SingleProcessDataLoaderIter._next_data\u001b[1;34m(self)\u001b[0m\n\u001b[0;32m    675\u001b[0m \u001b[39mdef\u001b[39;00m \u001b[39m_next_data\u001b[39m(\u001b[39mself\u001b[39m):\n\u001b[0;32m    676\u001b[0m     index \u001b[39m=\u001b[39m \u001b[39mself\u001b[39m\u001b[39m.\u001b[39m_next_index()  \u001b[39m# may raise StopIteration\u001b[39;00m\n\u001b[1;32m--> 677\u001b[0m     data \u001b[39m=\u001b[39m \u001b[39mself\u001b[39;49m\u001b[39m.\u001b[39;49m_dataset_fetcher\u001b[39m.\u001b[39;49mfetch(index)  \u001b[39m# may raise StopIteration\u001b[39;00m\n\u001b[0;32m    678\u001b[0m     \u001b[39mif\u001b[39;00m \u001b[39mself\u001b[39m\u001b[39m.\u001b[39m_pin_memory:\n\u001b[0;32m    679\u001b[0m         data \u001b[39m=\u001b[39m _utils\u001b[39m.\u001b[39mpin_memory\u001b[39m.\u001b[39mpin_memory(data, \u001b[39mself\u001b[39m\u001b[39m.\u001b[39m_pin_memory_device)\n",
      "File \u001b[1;32mc:\\Users\\zhouz\\anaconda3\\envs\\d2l\\lib\\site-packages\\torch\\utils\\data\\_utils\\fetch.py:51\u001b[0m, in \u001b[0;36m_MapDatasetFetcher.fetch\u001b[1;34m(self, possibly_batched_index)\u001b[0m\n\u001b[0;32m     49\u001b[0m         data \u001b[39m=\u001b[39m \u001b[39mself\u001b[39m\u001b[39m.\u001b[39mdataset\u001b[39m.\u001b[39m__getitems__(possibly_batched_index)\n\u001b[0;32m     50\u001b[0m     \u001b[39melse\u001b[39;00m:\n\u001b[1;32m---> 51\u001b[0m         data \u001b[39m=\u001b[39m [\u001b[39mself\u001b[39m\u001b[39m.\u001b[39mdataset[idx] \u001b[39mfor\u001b[39;00m idx \u001b[39min\u001b[39;00m possibly_batched_index]\n\u001b[0;32m     52\u001b[0m \u001b[39melse\u001b[39;00m:\n\u001b[0;32m     53\u001b[0m     data \u001b[39m=\u001b[39m \u001b[39mself\u001b[39m\u001b[39m.\u001b[39mdataset[possibly_batched_index]\n",
      "File \u001b[1;32mc:\\Users\\zhouz\\anaconda3\\envs\\d2l\\lib\\site-packages\\torch\\utils\\data\\_utils\\fetch.py:51\u001b[0m, in \u001b[0;36m<listcomp>\u001b[1;34m(.0)\u001b[0m\n\u001b[0;32m     49\u001b[0m         data \u001b[39m=\u001b[39m \u001b[39mself\u001b[39m\u001b[39m.\u001b[39mdataset\u001b[39m.\u001b[39m__getitems__(possibly_batched_index)\n\u001b[0;32m     50\u001b[0m     \u001b[39melse\u001b[39;00m:\n\u001b[1;32m---> 51\u001b[0m         data \u001b[39m=\u001b[39m [\u001b[39mself\u001b[39;49m\u001b[39m.\u001b[39;49mdataset[idx] \u001b[39mfor\u001b[39;00m idx \u001b[39min\u001b[39;00m possibly_batched_index]\n\u001b[0;32m     52\u001b[0m \u001b[39melse\u001b[39;00m:\n\u001b[0;32m     53\u001b[0m     data \u001b[39m=\u001b[39m \u001b[39mself\u001b[39m\u001b[39m.\u001b[39mdataset[possibly_batched_index]\n",
      "\u001b[1;31mTypeError\u001b[0m: 'DataLoader' object is not subscriptable"
     ]
    }
   ],
   "source": [
    "learning_rate = 1e-3\n",
    "batch_size = 25\n",
    "epochs = 5\n",
    "\n",
    "loss_fn = nn.CrossEntropyLoss()\n",
    "optimizer = torch.optim.SGD(model.parameters(), lr=learning_rate)\n",
    "\n",
    "# for batch, (X, y) in enumerate(train_dataloader):\n",
    "#     print(batch)\n",
    "size = len(train_dataloader.dataset)\n",
    "# Set the model to training mode - important for batch normalization and dropout layers\n",
    "# Unnecessary in this situation but added for best practices\n",
    "model.train()\n",
    "for batch, (X, y) in enumerate(train_dataloader):\n",
    "    # Compute prediction and loss\n",
    "    pred = model(X)\n",
    "    loss = loss_fn(pred, y)\n",
    "\n",
    "    # Backpropagation\n",
    "    loss.backward()\n",
    "    optimizer.step()\n",
    "    optimizer.zero_grad()\n",
    "\n",
    "    if batch % 100 == 0:\n",
    "        loss, current = loss.item(), (batch + 1) * len(X)\n",
    "        print(f\"loss: {loss:>7f}  [{current:>5d}/{size:>5d}]\")\n"
   ]
  }
 ],
 "metadata": {
  "kernelspec": {
   "display_name": "base",
   "language": "python",
   "name": "python3"
  },
  "language_info": {
   "codemirror_mode": {
    "name": "ipython",
    "version": 3
   },
   "file_extension": ".py",
   "mimetype": "text/x-python",
   "name": "python",
   "nbconvert_exporter": "python",
   "pygments_lexer": "ipython3",
   "version": "3.9.16"
  }
 },
 "nbformat": 4,
 "nbformat_minor": 2
}
