{
 "cells": [
  {
   "cell_type": "markdown",
   "metadata": {},
   "source": [
    "# Training the electric network\n",
    "\n",
    "Write a two-layer neural network to train image in raw format. The network is trained to predict the electric network from the image. The network is trained on the training set and evaluated on the test set. The network is trained using stochastic gradient descent with a fixed learning rate and no regularization."
   ]
  },
  {
   "cell_type": "code",
   "execution_count": 1,
   "metadata": {},
   "outputs": [],
   "source": [
    "# import the necessary packages\n",
    "import torch as torch\n",
    "import torch.nn as nn\n",
    "\n",
    "# import raw image\n",
    "from PIL import Image\n",
    "import numpy as np\n",
    "import matplotlib.pyplot as plt\n"
   ]
  },
  {
   "cell_type": "markdown",
   "metadata": {},
   "source": [
    "## 1. have a feel of the raw image"
   ]
  },
  {
   "cell_type": "code",
   "execution_count": 4,
   "metadata": {},
   "outputs": [
    {
     "name": "stdout",
     "output_type": "stream",
     "text": [
      "[[ 4807  4278  3877 ...  6170  5251  3394]\n",
      " [ 8557  7995  7807 ... 10571  8467  3529]\n",
      " [ 9520  7299  8458 ...  9944  7213  3573]\n",
      " ...\n",
      " [ 5600  7281  7108 ...  5810  3004  2989]\n",
      " [ 7732  8519  8391 ...  5457  3071  3112]\n",
      " [ 7827  7680  6760 ...  5701  3136  3038]]\n"
     ]
    },
    {
     "data": {
      "image/png": "[encoded data removed]",
      "text/plain": [
       "<Figure size 640x480 with 1 Axes>"
      ]
     },
     "metadata": {},
     "output_type": "display_data"
    }
   ],
   "source": [
    "# open the raw image file\n",
    "with open('红外光测试/img32x32_20231023_113512/pic_20231023_1136 0_163.raw', 'rb') as f:\n",
    "    # read the raw image data\n",
    "    raw_data = f.read()\n",
    "\n",
    "# create a PIL image from the raw data\n",
    "width, height = 32, 32\n",
    "img = Image.frombytes('I;16', (width, height), raw_data, decoder_name='raw')\n",
    "\n",
    "# convert the PIL image to a numpy array\n",
    "image = np.array(img)\n",
    "print(image)\n",
    "\n",
    "# display the image\n",
    "plt.imshow(image, cmap='gray', vmin=0, vmax=2**14-1)\n",
    "plt.show()"
   ]
  },
  {
   "cell_type": "markdown",
   "metadata": {},
   "source": [
    "## 2. make a dataset\n",
    "3 kinds of objects in 3 folders, 250 raw images in each folder, labeled as 0, 1, 2."
   ]
  },
  {
   "cell_type": "code",
   "execution_count": 5,
   "metadata": {},
   "outputs": [
    {
     "name": "stdout",
     "output_type": "stream",
     "text": [
      "750\n",
      "dataset.class: ['img32x32_20231023_113512', 'img32x32_20231023_113737', 'img32x32_20231023_113921']\n"
     ]
    }
   ],
   "source": [
    "import torchvision.transforms as transforms\n",
    "import torchvision.datasets as datasets\n",
    "\n",
    "# define the path to the root folder of the dataset\n",
    "root = '红外光测试'\n",
    "\n",
    "# define the transformations to apply to the images\n",
    "transform = transforms.Compose([\n",
    "    transforms.Resize((1, 32*32)),\n",
    "    transforms.ToTensor(),\n",
    "    # transforms.Normalize(mean=[0.5], std=[0.5])\n",
    "])\n",
    "\n",
    "# create the ImageFolder dataset\n",
    "dataset = datasets.ImageFolder(root=root, transform=transform)\n",
    "\n",
    "# print the number of images in the dataset\n",
    "print(len(dataset))\n",
    "\n",
    "# print the class labels\n",
    "print('dataset.class:', dataset.classes)\n",
    "\n",
    "# # print the number of images per class\n",
    "# print(dataset.class_counts)"
   ]
  },
  {
   "cell_type": "markdown",
   "metadata": {},
   "source": [
    "## 3. define the network\n",
    "\n",
    "The input tensor is a 32 * 32 raw image and flatten to 1 * 1024.\n",
    "\n",
    "The weight value in the 1st layer should be binary (+1 or -1), the dimension of the weight matrix is 1024*32. The activation function is relu function.\n",
    "\n",
    "The weight value in the 2nd layer signed 16 bit, the dimension of the weight matrix is 32 *3. The output is 1 *3 matrix. The activation function is softmax function."
   ]
  },
  {
   "cell_type": "code",
   "execution_count": null,
   "metadata": {},
   "outputs": [],
   "source": [
    "# define the network\n",
    "# The weight value in the 1st layer should be binary (+1 or -1), \n",
    "# the dimension of the weight matrix is 1024*32. The activation function is relu function.\n",
    "# The weight value in the 2nd layer signed 16 bit, the dimension of the weight matrix is 32 *3. \n",
    "# The output is 1 *3 matrix. The activation function is softmax function.\n",
    "\n",
    "class Network(nn.Module):\n",
    "    def __init__(self):\n",
    "        super(Network, self).__init__()\n",
    "        self.fc1 = nn.Linear(32*32, 32)\n",
    "        self.fc2 = nn.Linear(32, 3)\n",
    "\n",
    "    def forward(self, x):\n",
    "        x = torch.relu(self.fc1(x))\n",
    "        x = self.fc2(x)\n",
    "        return x\n",
    "\n",
    "    # def binary(self):\n",
    "    #     self.fc1.weight.data = torch.where(self.fc1.weight.data > 0, \n",
    "    #             torch.ones_like(self.fc1.weight.data),\n",
    "    #             -torch.ones_like(self.fc1.weight.data))"
   ]
  },
  {
   "cell_type": "markdown",
   "metadata": {},
   "source": [
    "## 4. train the network"
   ]
  },
  {
   "cell_type": "code",
   "execution_count": null,
   "metadata": {},
   "outputs": [],
   "source": [
    "\n",
    "\n",
    "# define the loss function\n",
    "criterion = nn.CrossEntropyLoss()"
   ]
  }
 ],
 "metadata": {
  "kernelspec": {
   "display_name": "base",
   "language": "python",
   "name": "python3"
  },
  "language_info": {
   "codemirror_mode": {
    "name": "ipython",
    "version": 3
   },
   "file_extension": ".py",
   "mimetype": "text/x-python",
   "name": "python",
   "nbconvert_exporter": "python",
   "pygments_lexer": "ipython3",
   "version": "3.9.16"
  }
 },
 "nbformat": 4,
 "nbformat_minor": 2
}
