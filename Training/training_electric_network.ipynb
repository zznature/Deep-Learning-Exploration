{
 "cells": [
  {
   "cell_type": "markdown",
   "metadata": {},
   "source": [
    "# Training the electric network\n",
    "\n",
    "Write a two-layer neural network to train image in raw format. The network is trained to predict the electric network from the image. The network is trained on the training set and evaluated on the test set. The network is trained using stochastic gradient descent with a fixed learning rate and no regularization."
   ]
  },
  {
   "cell_type": "code",
   "execution_count": 1,
   "metadata": {},
   "outputs": [],
   "source": [
    "# import the necessary packages\n",
    "import torch as torch\n",
    "import torch.nn as nn\n",
    "import torchvision.transforms as transforms\n",
    "import torchvision.datasets as datasets\n",
    "from torch.utils.data import DataLoader\n",
    "\n",
    "# import raw image\n",
    "from PIL import Image\n",
    "import numpy as np\n",
    "import matplotlib.pyplot as plt\n",
    "\n",
    "import os"
   ]
  },
  {
   "cell_type": "markdown",
   "metadata": {},
   "source": [
    "## 1. have a feel of the raw image"
   ]
  },
  {
   "cell_type": "code",
   "execution_count": 2,
   "metadata": {},
   "outputs": [],
   "source": [
    "def rawimage2tensor(raw_data, width=32, height=32):\n",
    "    # create a PIL image from the raw data\n",
    "    img = Image.frombytes('I;16', (width, height), raw_data, decoder_name='raw')\n",
    "\n",
    "    # convert the PIL image to a numpy array\n",
    "    image = np.array(img)\n",
    "\n",
    "    # convert uint16 to int16\n",
    "    image = image.astype(np.int16)\n",
    "\n",
    "    # flatten image to 1D array\n",
    "    image = image.flatten()\n",
    "\n",
    "    # convert the numpy array to a tensor\n",
    "    tensor = torch.from_numpy(image)\n",
    "\n",
    "    # return the tensor\n",
    "    return tensor"
   ]
  },
  {
   "cell_type": "markdown",
   "metadata": {},
   "source": [
    "### 1.1 read the image"
   ]
  },
  {
   "cell_type": "code",
   "execution_count": 3,
   "metadata": {},
   "outputs": [],
   "source": [
    "# # open the raw image file\n",
    "# with open('test_image/pic_20231025_15 1 2_991.raw', 'rb') as f:\n",
    "#     # read the raw image data\n",
    "#     raw_data = f.read()\n",
    "\n",
    "# initialize the dataset\n",
    "dataset = []\n",
    "\n",
    "# open the raw image file in folder '红外光测试'\n",
    "for image in os.listdir('红外光测试/img32x32_20231023_113512_flight/'):\n",
    "    with open('红外光测试/img32x32_20231023_113512_flight/' + image, 'rb') as f:\n",
    "        # read the raw image data\n",
    "        raw_data = f.read()\n",
    "        matrix = rawimage2tensor(raw_data)\n",
    "        label = 0  # 0 for flight\n",
    "        # append the image tensor into dataset\n",
    "        dataset.append((matrix, label))\n",
    "\n",
    "for image in os.listdir('红外光测试/img32x32_20231023_113737_oil/'):\n",
    "    with open('红外光测试/img32x32_20231023_113737_oil/' + image, 'rb') as f:\n",
    "        # read the raw image data\n",
    "        raw_data = f.read()\n",
    "        matrix = rawimage2tensor(raw_data)\n",
    "        label = 1  # 1 for oil-tank\n",
    "        # append the image tensor into dataset\n",
    "        dataset.append((matrix, label))\n",
    "\n",
    "for image in os.listdir('红外光测试/img32x32_20231023_113921_boat/'):\n",
    "    with open('红外光测试/img32x32_20231023_113921_boat/' + image, 'rb') as f:\n",
    "        # read the raw image data\n",
    "        raw_data = f.read()\n",
    "        matrix = rawimage2tensor(raw_data)\n",
    "        label = 2  # 2 for boat\n",
    "        # append the image tensor into dataset\n",
    "        dataset.append((matrix, label))"
   ]
  },
  {
   "cell_type": "code",
   "execution_count": 4,
   "metadata": {},
   "outputs": [
    {
     "name": "stdout",
     "output_type": "stream",
     "text": [
      "750\n",
      "torch.Size([1024])\n",
      "tensor([4268, 4277, 4430,  ..., 4204, 2941, 2878], dtype=torch.int16) 0\n",
      "0 torch.Size([1, 1024]) torch.Size([1])\n"
     ]
    }
   ],
   "source": [
    "print(len(dataset))\n",
    "print(dataset[0][0].shape)\n",
    "# check a random sample in dataset\n",
    "sample = dataset[0]\n",
    "print(sample[0], sample[1])\n",
    "# plt.imshow(sample[0], cmap='gray')\n",
    "\n",
    "# sample = dataset[250]\n",
    "# print(sample[0], sample[1])\n",
    "# plt.imshow(sample[0], cmap='gray')\n",
    "\n",
    "# sample = dataset[500]\n",
    "# print(sample[0], sample[1])\n",
    "# plt.imshow(sample[0], cmap='gray')\n",
    "\n",
    "# import dataset into dataloader\n",
    "train_dataloader = DataLoader(dataset, batch_size=1)\n",
    "\n",
    "for batch, (X, y) in enumerate(train_dataloader):\n",
    "    print(batch, X.shape, y.shape)\n",
    "    break"
   ]
  },
  {
   "cell_type": "markdown",
   "metadata": {},
   "source": [
    "## 2. make a dataset\n",
    "3 kinds of objects in 3 folders, 250 raw images in each folder, labeled as 0, 1, 2.\n",
    "\n",
    "`datasets.ImageFolder(root='./data', transform=transform)` do not support raw image, so we need to make a dataset by ourselves."
   ]
  },
  {
   "cell_type": "code",
   "execution_count": 5,
   "metadata": {},
   "outputs": [],
   "source": [
    "\n"
   ]
  },
  {
   "cell_type": "markdown",
   "metadata": {},
   "source": [
    "## 3. define the network\n",
    "\n",
    "The input tensor is a 32 * 32 raw image and flatten to 1 * 1024.\n",
    "\n",
    "The weight value in the 1st layer should be binary (+1 or -1), the dimension of the weight matrix is 1024*32. The activation function is relu function.\n",
    "\n",
    "The weight value in the 2nd layer signed 16 bit, the dimension of the weight matrix is 32 *3. The output is 1 *3 matrix. The activation function is softmax function."
   ]
  },
  {
   "cell_type": "code",
   "execution_count": 6,
   "metadata": {},
   "outputs": [],
   "source": [
    "# define the network\n",
    "# The weight value in the 1st layer should be binary (+1 or -1), \n",
    "# the dimension of the weight matrix is 1024*32. The activation function is relu function.\n",
    "# The weight value in the 2nd layer signed 16 bit, the dimension of the weight matrix is 32 *3. \n",
    "# The output is 1 *3 matrix. The activation function is softmax function.\n",
    "\n",
    "class Network(nn.Module):\n",
    "    def __init__(self):\n",
    "        super(Network, self).__init__()\n",
    "        self.fc1 = nn.Linear(32*32, 32)\n",
    "        self.fc2 = nn.Linear(32, 3)\n",
    "\n",
    "    def forward(self, x):\n",
    "        x = torch.relu(self.fc1(x))\n",
    "        x = self.fc2(x)\n",
    "        return x\n"
   ]
  },
  {
   "cell_type": "markdown",
   "metadata": {},
   "source": [
    "## 4. train the network"
   ]
  },
  {
   "cell_type": "code",
   "execution_count": 7,
   "metadata": {},
   "outputs": [
    {
     "name": "stdout",
     "output_type": "stream",
     "text": [
      "Network(\n",
      "  (fc1): Linear(in_features=1024, out_features=32, bias=True)\n",
      "  (fc2): Linear(in_features=32, out_features=3, bias=True)\n",
      ")\n",
      "CrossEntropyLoss()\n",
      "SGD (\n",
      "Parameter Group 0\n",
      "    dampening: 0\n",
      "    differentiable: False\n",
      "    foreach: None\n",
      "    lr: 0.001\n",
      "    maximize: False\n",
      "    momentum: 0\n",
      "    nesterov: False\n",
      "    weight_decay: 0\n",
      ")\n"
     ]
    }
   ],
   "source": [
    "model = Network()\n",
    "print(model)\n",
    "\n",
    "learning_rate = 1e-3\n",
    "batch_size = 25\n",
    "epochs = 5\n",
    "\n",
    "loss_fn = nn.CrossEntropyLoss()\n",
    "print(loss_fn)\n",
    "optimizer = torch.optim.SGD(model.parameters(), lr=learning_rate)\n",
    "print(optimizer)"
   ]
  },
  {
   "cell_type": "code",
   "execution_count": 9,
   "metadata": {},
   "outputs": [
    {
     "name": "stdout",
     "output_type": "stream",
     "text": [
      "loss: 2531.258789  [    1/  750]\n",
      "loss: 0.000000  [  101/  750]\n",
      "loss: 0.000000  [  201/  750]\n",
      "loss: 0.914605  [  301/  750]\n",
      "loss: 0.862225  [  401/  750]\n",
      "loss: 1.328979  [  501/  750]\n",
      "loss: 0.000000  [  601/  750]\n",
      "loss: 0.000000  [  701/  750]\n"
     ]
    }
   ],
   "source": [
    "\n",
    "size = len(train_dataloader.dataset)\n",
    "# Set the model to training mode - important for batch normalization and dropout layers\n",
    "# Unnecessary in this situation but added for best practices\n",
    "model.train()\n",
    "for batch, (X, y) in enumerate(train_dataloader):\n",
    "    # Compute prediction and loss\n",
    "    X = X.to(torch.float32)\n",
    "    pred = model(X)\n",
    "    loss = loss_fn(pred, y)\n",
    "\n",
    "    # Backpropagation\n",
    "    loss.backward()\n",
    "    optimizer.step()\n",
    "    optimizer.zero_grad()\n",
    "\n",
    "    if batch % 100 == 0:\n",
    "        loss, current = loss.item(), (batch + 1) * len(X)\n",
    "        print(f\"loss: {loss:>7f}  [{current:>5d}/{size:>5d}]\")\n"
   ]
  }
 ],
 "metadata": {
  "kernelspec": {
   "display_name": "base",
   "language": "python",
   "name": "python3"
  },
  "language_info": {
   "codemirror_mode": {
    "name": "ipython",
    "version": 3
   },
   "file_extension": ".py",
   "mimetype": "text/x-python",
   "name": "python",
   "nbconvert_exporter": "python",
   "pygments_lexer": "ipython3",
   "version": "3.9.16"
  }
 },
 "nbformat": 4,
 "nbformat_minor": 2
}
