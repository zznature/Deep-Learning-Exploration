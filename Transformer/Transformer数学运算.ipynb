{
 "cells": [
  {
   "cell_type": "markdown",
   "metadata": {},
   "source": [
    "# Transformer数学interpretation\n",
    "\n",
    "改编自[The Random Transformer](https://osanseviero.github.io/hackerllama/blog/posts/random_transformer/#the-random-encoder-decoder-transformer)"
   ]
  },
  {
   "cell_type": "markdown",
   "metadata": {},
   "source": [
    "词汇embedding\n",
    "\n",
    "Hello -> [1,2,3,4]\n",
    "\n",
    "World -> [2,3,4,5]\n",
    "\n"
   ]
  }
 ],
 "metadata": {
  "language_info": {
   "name": "python"
  }
 },
 "nbformat": 4,
 "nbformat_minor": 2
}
