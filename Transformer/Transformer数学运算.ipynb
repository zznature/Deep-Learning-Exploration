{
 "cells": [
  {
   "cell_type": "markdown",
   "metadata": {},
   "source": [
    "# Transformer数学interpretation\n",
    "\n",
    "\n",
    "\n",
    "改编自[The Random Transformer](https://osanseviero.github.io/hackerllama/blog/posts/random_transformer/#the-random-encoder-decoder-transformer)"
   ]
  },
  {
   "cell_type": "markdown",
   "metadata": {},
   "source": [
    "### 词汇embedding\n",
    "\n",
    "Hello -> [1,2,3,4]\n",
    "\n",
    "World -> [2,3,4,5]\n",
    "\n",
    "输入矩阵\n",
    "$$\n",
    "E = \\begin{bmatrix}\n",
    "1 & 2 & 3 & 4 \\\\\n",
    "2 & 3 & 4 & 5\n",
    "\\end{bmatrix}\n",
    "$$\n"
   ]
  },
  {
   "cell_type": "markdown",
   "metadata": {},
   "source": [
    "### 位置编码\n",
    "\n",
    "\n",
    "$$\n",
    "\\begin{gathered}\n",
    "PE(\\text{pos}, 2i)=\\sin \\left(\\frac{pos}{10000^{2i / d_{\\mathrm{model}}}}\\right) \\\\\n",
    "PE(\\text{pos}, 2i+1)=\\cos \\left(\\frac{pos}{10000^{2i / d_{\\mathrm{model}}}}\\right)\n",
    "\\end{gathered}\n",
    "$$\n",
    "\n",
    "“Hello” -> [0, 1, 0, 1]\n",
    "\n",
    "“World” -> [0.84, 0.99, 0, 1]\n",
    "\n",
    "$$\n",
    "E = \\begin{bmatrix}\n",
    "1 & 3 & 3 & 5 \\\\\n",
    "2.84 & 3.99 & 4 & 6\n",
    "\\end{bmatrix}\n",
    "$$"
   ]
  },
  {
   "cell_type": "code",
   "execution_count": 9,
   "metadata": {},
   "outputs": [],
   "source": [
    "# define the function of position embeddings\n",
    "import numpy as np\n",
    "def pos_embedding(max_len, d_model):\n",
    "    # max_len: the max length of the sequence\n",
    "    # d_model: the dimension of the model\n",
    "    # return the position embeddings\n",
    "    pos = np.arange(max_len).reshape(max_len, 1)\n",
    "    i = np.arange(d_model).reshape(1, d_model)\n",
    "    angle_rates = 1 / np.power(10000, (2 * (i // 2)) / np.float32(d_model))\n",
    "    angle_rads = pos * angle_rates\n",
    "    angle_rads[:, 0::2] = np.sin(angle_rads[:, 0::2])\n",
    "    angle_rads[:, 1::2] = np.cos(angle_rads[:, 1::2])\n",
    "    pos_embedding = angle_rads[np.newaxis, ...]\n",
    "    return pos_embedding"
   ]
  },
  {
   "cell_type": "code",
   "execution_count": 11,
   "metadata": {},
   "outputs": [
    {
     "name": "stdout",
     "output_type": "stream",
     "text": [
      "[[[0.         1.         0.         1.        ]\n",
      "  [0.84147098 0.54030231 0.00999983 0.99995   ]]]\n",
      "0.0\n"
     ]
    }
   ],
   "source": [
    "print(pos_embedding(2,4))\n",
    "print((2 * (1 // 2)) / np.float32(4))"
   ]
  }
 ],
 "metadata": {
  "kernelspec": {
   "display_name": "base",
   "language": "python",
   "name": "python3"
  },
  "language_info": {
   "codemirror_mode": {
    "name": "ipython",
    "version": 3
   },
   "file_extension": ".py",
   "mimetype": "text/x-python",
   "name": "python",
   "nbconvert_exporter": "python",
   "pygments_lexer": "ipython3",
   "version": "3.10.13"
  }
 },
 "nbformat": 4,
 "nbformat_minor": 2
}
