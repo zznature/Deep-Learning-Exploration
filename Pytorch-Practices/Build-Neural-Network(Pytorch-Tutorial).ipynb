{
 "cells": [
  {
   "attachments": {},
   "cell_type": "markdown",
   "metadata": {},
   "source": [
    "# BUILD THE NEURAL NETWORK\n",
    "\n",
    "PyTorch is a Python package that provides two high-level features:\n",
    "\n",
    "- Tensor computation (like NumPy) with strong GPU acceleration\n",
    "- Deep neural networks built on a tape-based autograd system\n",
    "  \n",
    "You can reuse your favorite Python packages such as NumPy, SciPy, and Cython to extend PyTorch when needed.\n",
    "\n",
    "[Tutorials > Optimizing Model Parameters](https://pytorch.org/tutorials/beginner/basics/optimization_tutorial.html#optimization-loop)\n",
    "\n",
    "In the following sections, we’ll build a neural network to classify images in the FashionMNIST dataset."
   ]
  },
  {
   "cell_type": "code",
   "execution_count": 30,
   "metadata": {},
   "outputs": [],
   "source": [
    "import os\n",
    "import torch\n",
    "from torch import nn\n",
    "from torch.utils.data import DataLoader\n",
    "from torchvision import datasets\n",
    "from torchvision.transforms import ToTensor"
   ]
  },
  {
   "cell_type": "code",
   "execution_count": 31,
   "metadata": {},
   "outputs": [
    {
     "data": {
      "text/plain": [
       "True"
      ]
     },
     "execution_count": 31,
     "metadata": {},
     "output_type": "execute_result"
    }
   ],
   "source": [
    "torch.cuda.is_available()"
   ]
  },
  {
   "cell_type": "code",
   "execution_count": 32,
   "metadata": {},
   "outputs": [
    {
     "name": "stdout",
     "output_type": "stream",
     "text": [
      "Using cuda device\n"
     ]
    }
   ],
   "source": [
    "# PyTorch uses the new Metal Performance Shaders (MPS) backend for GPU training acceleration.\n",
    "\n",
    "device = (\n",
    "    \"cuda\"\n",
    "    if torch.cuda.is_available()\n",
    "    else \"mps\"\n",
    "    if torch.backends.mps.is_available()\n",
    "    else \"cpu\"\n",
    ")\n",
    "print(f\"Using {device} device\")"
   ]
  },
  {
   "cell_type": "code",
   "execution_count": 33,
   "metadata": {},
   "outputs": [],
   "source": [
    "training_data = datasets.FashionMNIST(\n",
    "    root=\"data\",  # data path\n",
    "    train=True,   # train data\n",
    "    download=True, # download data\n",
    "    transform=ToTensor() \n",
    ")\n",
    "\n",
    "test_data = datasets.FashionMNIST(\n",
    "    root=\"data\",\n",
    "    train=False,\n",
    "    download=True,\n",
    "    transform=ToTensor()\n",
    ")\n",
    "\n",
    "train_dataloader = DataLoader(training_data, batch_size=64)\n",
    "test_dataloader = DataLoader(test_data, batch_size=64)"
   ]
  },
  {
   "cell_type": "code",
   "execution_count": 34,
   "metadata": {},
   "outputs": [],
   "source": [
    "class NeuralNetwork(nn.Module):\n",
    "    def __init__(self):\n",
    "        super().__init__()\n",
    "        self.flatten = nn.Flatten()\n",
    "        self.linear_relu_stack = nn.Sequential(\n",
    "            nn.Linear(28*28, 512),\n",
    "            nn.ReLU(),\n",
    "            nn.Linear(512, 512),\n",
    "            nn.ReLU(),\n",
    "            nn.Linear(512, 256),\n",
    "            nn.ReLU(),\n",
    "            nn.Linear(256, 10),\n",
    "        )\n",
    "    # Define the forward propagation of the model\n",
    "    # return the required model output based on the input X\n",
    "    def forward(self, x): #\n",
    "        x = self.flatten(x) \n",
    "        logits = self.linear_relu_stack(x) \n",
    "        return logits"
   ]
  },
  {
   "cell_type": "code",
   "execution_count": 35,
   "metadata": {},
   "outputs": [
    {
     "name": "stdout",
     "output_type": "stream",
     "text": [
      "NeuralNetwork(\n",
      "  (flatten): Flatten(start_dim=1, end_dim=-1)\n",
      "  (linear_relu_stack): Sequential(\n",
      "    (0): Linear(in_features=784, out_features=512, bias=True)\n",
      "    (1): ReLU()\n",
      "    (2): Linear(in_features=512, out_features=512, bias=True)\n",
      "    (3): ReLU()\n",
      "    (4): Linear(in_features=512, out_features=256, bias=True)\n",
      "    (5): ReLU()\n",
      "    (6): Linear(in_features=256, out_features=10, bias=True)\n",
      "  )\n",
      ")\n"
     ]
    }
   ],
   "source": [
    "# model = NeuralNetwork().to(device)\n",
    "model = NeuralNetwork()\n",
    "print(model)"
   ]
  },
  {
   "attachments": {},
   "cell_type": "markdown",
   "metadata": {},
   "source": [
    "### Hyperparameters"
   ]
  },
  {
   "cell_type": "code",
   "execution_count": 36,
   "metadata": {},
   "outputs": [],
   "source": [
    "learning_rate = 1e-3\n",
    "batch_size = 64\n",
    "epochs = 5"
   ]
  },
  {
   "cell_type": "code",
   "execution_count": 37,
   "metadata": {},
   "outputs": [],
   "source": [
    "# Initialize the loss function\n",
    "loss_fn = nn.CrossEntropyLoss()"
   ]
  },
  {
   "cell_type": "code",
   "execution_count": 38,
   "metadata": {},
   "outputs": [],
   "source": [
    "optimizer = torch.optim.SGD(model.parameters(), lr=learning_rate)"
   ]
  },
  {
   "cell_type": "code",
   "execution_count": 39,
   "metadata": {},
   "outputs": [],
   "source": [
    "def train_loop(dataloader, model, loss_fn, optimizer):\n",
    "    size = len(dataloader.dataset)\n",
    "    # Set the model to training mode - important for batch normalization and dropout layers\n",
    "    # Unnecessary in this situation but added for best practices\n",
    "    model.train()\n",
    "    for batch, (X, y) in enumerate(dataloader):\n",
    "        # Compute prediction and loss\n",
    "        pred = model(X)\n",
    "        loss = loss_fn(pred, y)\n",
    "\n",
    "        # Backpropagation\n",
    "        loss.backward()\n",
    "        optimizer.step()\n",
    "        optimizer.zero_grad()\n",
    "\n",
    "        if batch % 100 == 0:\n",
    "            loss, current = loss.item(), (batch + 1) * len(X)\n",
    "            print(f\"loss: {loss:>7f}  [{current:>5d}/{size:>5d}]\")\n",
    "\n",
    "\n",
    "def test_loop(dataloader, model, loss_fn):\n",
    "    # Set the model to evaluation mode - important for batch normalization and dropout layers\n",
    "    # Unnecessary in this situation but added for best practices\n",
    "    model.eval()\n",
    "    size = len(dataloader.dataset)\n",
    "    num_batches = len(dataloader)\n",
    "    test_loss, correct = 0, 0\n",
    "\n",
    "    # Evaluating the model with torch.no_grad() ensures that no gradients are computed during test mode\n",
    "    # also serves to reduce unnecessary gradient computations and memory usage for tensors with requires_grad=True\n",
    "    with torch.no_grad():\n",
    "        for X, y in dataloader:\n",
    "            pred = model(X)\n",
    "            test_loss += loss_fn(pred, y).item()\n",
    "            correct += (pred.argmax(1) == y).type(torch.float).sum().item()\n",
    "\n",
    "    test_loss /= num_batches\n",
    "    correct /= size\n",
    "    print(f\"Test Error: \\n Accuracy: {(100*correct):>0.1f}%, Avg loss: {test_loss:>8f} \\n\")"
   ]
  },
  {
   "cell_type": "code",
   "execution_count": 40,
   "metadata": {},
   "outputs": [
    {
     "name": "stdout",
     "output_type": "stream",
     "text": [
      "Epoch 1\n",
      "-------------------------------\n",
      "loss: 2.307187  [   64/60000]\n"
     ]
    },
    {
     "name": "stdout",
     "output_type": "stream",
     "text": [
      "loss: 2.298497  [ 6464/60000]\n",
      "loss: 2.298959  [12864/60000]\n",
      "loss: 2.296135  [19264/60000]\n",
      "loss: 2.296741  [25664/60000]\n",
      "loss: 2.285517  [32064/60000]\n",
      "loss: 2.288029  [38464/60000]\n",
      "loss: 2.282050  [44864/60000]\n",
      "loss: 2.289966  [51264/60000]\n",
      "loss: 2.278375  [57664/60000]\n",
      "Test Error: \n",
      " Accuracy: 21.6%, Avg loss: 2.278616 \n",
      "\n",
      "Epoch 2\n",
      "-------------------------------\n",
      "loss: 2.283534  [   64/60000]\n",
      "loss: 2.276843  [ 6464/60000]\n",
      "loss: 2.271710  [12864/60000]\n",
      "loss: 2.273888  [19264/60000]\n",
      "loss: 2.267947  [25664/60000]\n",
      "loss: 2.256067  [32064/60000]\n",
      "loss: 2.261316  [38464/60000]\n",
      "loss: 2.251495  [44864/60000]\n",
      "loss: 2.260062  [51264/60000]\n",
      "loss: 2.242639  [57664/60000]\n",
      "Test Error: \n",
      " Accuracy: 28.2%, Avg loss: 2.242141 \n",
      "\n",
      "Epoch 3\n",
      "-------------------------------\n",
      "loss: 2.249707  [   64/60000]\n",
      "loss: 2.243571  [ 6464/60000]\n",
      "loss: 2.229679  [12864/60000]\n",
      "loss: 2.236150  [19264/60000]\n",
      "loss: 2.220234  [25664/60000]\n",
      "loss: 2.203454  [32064/60000]\n",
      "loss: 2.211871  [38464/60000]\n",
      "loss: 2.192729  [44864/60000]\n",
      "loss: 2.199903  [51264/60000]\n",
      "loss: 2.170944  [57664/60000]\n",
      "Test Error: \n",
      " Accuracy: 48.2%, Avg loss: 2.170436 \n",
      "\n",
      "Epoch 4\n",
      "-------------------------------\n",
      "loss: 2.183945  [   64/60000]\n",
      "loss: 2.175632  [ 6464/60000]\n",
      "loss: 2.144055  [12864/60000]\n",
      "loss: 2.154518  [19264/60000]\n",
      "loss: 2.120605  [25664/60000]\n",
      "loss: 2.089435  [32064/60000]\n",
      "loss: 2.102316  [38464/60000]\n",
      "loss: 2.061174  [44864/60000]\n",
      "loss: 2.062575  [51264/60000]\n",
      "loss: 2.008711  [57664/60000]\n",
      "Test Error: \n",
      " Accuracy: 54.3%, Avg loss: 2.010735 \n",
      "\n",
      "Epoch 5\n",
      "-------------------------------\n",
      "loss: 2.039566  [   64/60000]\n",
      "loss: 2.017975  [ 6464/60000]\n",
      "loss: 1.947513  [12864/60000]\n",
      "loss: 1.962021  [19264/60000]\n",
      "loss: 1.892384  [25664/60000]\n",
      "loss: 1.848589  [32064/60000]\n",
      "loss: 1.857767  [38464/60000]\n",
      "loss: 1.782864  [44864/60000]\n",
      "loss: 1.783795  [51264/60000]\n",
      "loss: 1.690814  [57664/60000]\n",
      "Test Error: \n",
      " Accuracy: 51.4%, Avg loss: 1.700544 \n",
      "\n",
      "Epoch 6\n",
      "-------------------------------\n",
      "loss: 1.766507  [   64/60000]\n",
      "loss: 1.715589  [ 6464/60000]\n",
      "loss: 1.593464  [12864/60000]\n",
      "loss: 1.624337  [19264/60000]\n",
      "loss: 1.540508  [25664/60000]\n",
      "loss: 1.515446  [32064/60000]\n",
      "loss: 1.523077  [38464/60000]\n",
      "loss: 1.451310  [44864/60000]\n",
      "loss: 1.473728  [51264/60000]\n",
      "loss: 1.374656  [57664/60000]\n",
      "Test Error: \n",
      " Accuracy: 56.4%, Avg loss: 1.392279 \n",
      "\n",
      "Epoch 7\n",
      "-------------------------------\n",
      "loss: 1.485757  [   64/60000]\n",
      "loss: 1.437644  [ 6464/60000]\n",
      "loss: 1.294977  [12864/60000]\n",
      "loss: 1.356074  [19264/60000]\n",
      "loss: 1.282416  [25664/60000]\n",
      "loss: 1.286336  [32064/60000]\n",
      "loss: 1.303336  [38464/60000]\n",
      "loss: 1.242483  [44864/60000]\n",
      "loss: 1.268699  [51264/60000]\n",
      "loss: 1.195455  [57664/60000]\n",
      "Test Error: \n",
      " Accuracy: 59.1%, Avg loss: 1.202652 \n",
      "\n",
      "Epoch 8\n",
      "-------------------------------\n",
      "loss: 1.296463  [   64/60000]\n",
      "loss: 1.267369  [ 6464/60000]\n",
      "loss: 1.106985  [12864/60000]\n",
      "loss: 1.199625  [19264/60000]\n",
      "loss: 1.115155  [25664/60000]\n",
      "loss: 1.138830  [32064/60000]\n",
      "loss: 1.173602  [38464/60000]\n",
      "loss: 1.111552  [44864/60000]\n",
      "loss: 1.135194  [51264/60000]\n",
      "loss: 1.086247  [57664/60000]\n",
      "Test Error: \n",
      " Accuracy: 60.9%, Avg loss: 1.082794 \n",
      "\n",
      "Epoch 9\n",
      "-------------------------------\n",
      "loss: 1.169772  [   64/60000]\n",
      "loss: 1.162034  [ 6464/60000]\n",
      "loss: 0.980647  [12864/60000]\n",
      "loss: 1.097878  [19264/60000]\n",
      "loss: 1.003815  [25664/60000]\n",
      "loss: 1.031894  [32064/60000]\n",
      "loss: 1.085036  [38464/60000]\n",
      "loss: 1.022866  [44864/60000]\n",
      "loss: 1.036804  [51264/60000]\n",
      "loss: 1.011986  [57664/60000]\n",
      "Test Error: \n",
      " Accuracy: 63.2%, Avg loss: 0.999595 \n",
      "\n",
      "Epoch 10\n",
      "-------------------------------\n",
      "loss: 1.074827  [   64/60000]\n",
      "loss: 1.088455  [ 6464/60000]\n",
      "loss: 0.887983  [12864/60000]\n",
      "loss: 1.023998  [19264/60000]\n",
      "loss: 0.926978  [25664/60000]\n",
      "loss: 0.947800  [32064/60000]\n",
      "loss: 1.019097  [38464/60000]\n",
      "loss: 0.961640  [44864/60000]\n",
      "loss: 0.960523  [51264/60000]\n",
      "loss: 0.958548  [57664/60000]\n",
      "Test Error: \n",
      " Accuracy: 65.0%, Avg loss: 0.938940 \n",
      "\n",
      "Done!\n"
     ]
    }
   ],
   "source": [
    "loss_fn = nn.CrossEntropyLoss()\n",
    "optimizer = torch.optim.SGD(model.parameters(), lr=learning_rate)\n",
    "\n",
    "epochs = 10\n",
    "for t in range(epochs):\n",
    "    print(f\"Epoch {t+1}\\n-------------------------------\")\n",
    "    train_loop(train_dataloader, model, loss_fn, optimizer)\n",
    "    test_loop(test_dataloader, model, loss_fn)\n",
    "print(\"Done!\")\n",
    "\n",
    "# 1min 31.2s for 10 epochs on ZZQY-CPU\n",
    "# 1min 15.5s for 10 epochs on M2-Air"
   ]
  }
 ],
 "metadata": {
  "kernelspec": {
   "display_name": "d2l",
   "language": "python",
   "name": "python3"
  },
  "language_info": {
   "codemirror_mode": {
    "name": "ipython",
    "version": 3
   },
   "file_extension": ".py",
   "mimetype": "text/x-python",
   "name": "python",
   "nbconvert_exporter": "python",
   "pygments_lexer": "ipython3",
   "version": "3.10.9"
  },
  "orig_nbformat": 4
 },
 "nbformat": 4,
 "nbformat_minor": 2
}
